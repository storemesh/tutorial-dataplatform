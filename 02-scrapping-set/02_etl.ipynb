{
 "cells": [
  {
   "cell_type": "code",
   "execution_count": 1,
   "id": "d4fc1195-fe7e-4449-9062-4014c7f28a8d",
   "metadata": {},
   "outputs": [],
   "source": [
    "from IPython.display import display"
   ]
  },
  {
   "cell_type": "code",
   "execution_count": 10,
   "id": "6cd4c02f-3e97-41b9-a8b2-de7e17230038",
   "metadata": {
    "tags": []
   },
   "outputs": [],
   "source": [
    "from dsmlibrary.datanode import DataNode\n",
    "from tqdm.auto import tqdm\n",
    "import requests\n",
    "import pandas as pd\n",
    "import dask.dataframe as dd"
   ]
  },
  {
   "cell_type": "code",
   "execution_count": 3,
   "id": "b74a6c54-85fc-4044-b7d7-e8563ed0dbbd",
   "metadata": {},
   "outputs": [
    {
     "name": "stdout",
     "output_type": "stream",
     "text": [
      "Init DataNode sucessful!\n"
     ]
    }
   ],
   "source": [
    "datanode = DataNode()"
   ]
  },
  {
   "cell_type": "code",
   "execution_count": 4,
   "id": "52ed70cb-7ad8-4a3b-979c-31db52a3b0b1",
   "metadata": {},
   "outputs": [],
   "source": [
    "landing_dir_id = 16\n",
    "staging_dir_id = 17"
   ]
  },
  {
   "cell_type": "markdown",
   "id": "97f7cea8-60c1-42d3-9312-61eab1ffa5e8",
   "metadata": {},
   "source": [
    "### Get Data"
   ]
  },
  {
   "cell_type": "markdown",
   "id": "582d5aaa-b508-4f2f-8b64-da38f4230635",
   "metadata": {},
   "source": [
    "#### Board Data"
   ]
  },
  {
   "cell_type": "code",
   "execution_count": 27,
   "id": "b6a09176-11fb-4075-bf7e-20b452e0d573",
   "metadata": {},
   "outputs": [
    {
     "name": "stdout",
     "output_type": "stream",
     "text": [
      "(Delayed('int-2c5ce4d3-915e-40ac-aac7-530b79c4870f'), 3)\n"
     ]
    },
    {
     "data": {
      "text/html": [
       "<div>\n",
       "<style scoped>\n",
       "    .dataframe tbody tr th:only-of-type {\n",
       "        vertical-align: middle;\n",
       "    }\n",
       "\n",
       "    .dataframe tbody tr th {\n",
       "        vertical-align: top;\n",
       "    }\n",
       "\n",
       "    .dataframe thead th {\n",
       "        text-align: right;\n",
       "    }\n",
       "</style>\n",
       "<table border=\"1\" class=\"dataframe\">\n",
       "  <thead>\n",
       "    <tr style=\"text-align: right;\">\n",
       "      <th></th>\n",
       "      <th>name</th>\n",
       "      <th>positions</th>\n",
       "      <th>company</th>\n",
       "    </tr>\n",
       "  </thead>\n",
       "  <tbody>\n",
       "    <tr>\n",
       "      <th>0</th>\n",
       "      <td>นาย ครรชิต สิงห์สุวรรณ์</td>\n",
       "      <td>ประธานกรรมการ,กรรมการอิสระ,กรรมการตรวจสอบ</td>\n",
       "      <td>2s</td>\n",
       "    </tr>\n",
       "    <tr>\n",
       "      <th>0</th>\n",
       "      <td>นาย โนบูโยชิ อิดะ</td>\n",
       "      <td>ประธานกรรมการบริษัท,กรรมการผู้จัดการ</td>\n",
       "      <td>cpr</td>\n",
       "    </tr>\n",
       "    <tr>\n",
       "      <th>0</th>\n",
       "      <td>นาย สุเทพ วงศ์วรเศรษฐ</td>\n",
       "      <td>ประธานกรรมการ</td>\n",
       "      <td>mk</td>\n",
       "    </tr>\n",
       "    <tr>\n",
       "      <th>0</th>\n",
       "      <td>นาย อภิชาต ลี้อิสสระนุกูล</td>\n",
       "      <td>ประธานกรรมการ</td>\n",
       "      <td>stanly</td>\n",
       "    </tr>\n",
       "    <tr>\n",
       "      <th>0</th>\n",
       "      <td>นาย วิสูตร เอี้ยวศิวิกูล</td>\n",
       "      <td>ประธานกรรมการ</td>\n",
       "      <td>ml</td>\n",
       "    </tr>\n",
       "  </tbody>\n",
       "</table>\n",
       "</div>"
      ],
      "text/plain": [
       "                        name                                  positions  \\\n",
       "0    นาย ครรชิต สิงห์สุวรรณ์  ประธานกรรมการ,กรรมการอิสระ,กรรมการตรวจสอบ   \n",
       "0          นาย โนบูโยชิ อิดะ       ประธานกรรมการบริษัท,กรรมการผู้จัดการ   \n",
       "0      นาย สุเทพ วงศ์วรเศรษฐ                              ประธานกรรมการ   \n",
       "0  นาย อภิชาต ลี้อิสสระนุกูล                              ประธานกรรมการ   \n",
       "0   นาย วิสูตร เอี้ยวศิวิกูล                              ประธานกรรมการ   \n",
       "\n",
       "  company  \n",
       "0      2s  \n",
       "0     cpr  \n",
       "0      mk  \n",
       "0  stanly  \n",
       "0      ml  "
      ]
     },
     "execution_count": 27,
     "metadata": {},
     "output_type": "execute_result"
    }
   ],
   "source": [
    "board_data_fID = datanode.get_file_id(directory_id=landing_dir_id ,name=\"set-board.parquet\")\n",
    "ddf_board_data = datanode.read_ddf(file_id=board_data_fID)\n",
    "print(ddf_board_data.shape)\n",
    "ddf_board_data.head()"
   ]
  },
  {
   "cell_type": "markdown",
   "id": "11ebf998-10b0-41e6-a546-4942bd095110",
   "metadata": {},
   "source": [
    "#### Shareholder Data"
   ]
  },
  {
   "cell_type": "code",
   "execution_count": 28,
   "id": "1abd2c65-4c56-4711-b2ed-3b1cfb969baa",
   "metadata": {},
   "outputs": [
    {
     "name": "stdout",
     "output_type": "stream",
     "text": [
      "(Delayed('int-0aeb7a87-4743-4164-9372-2a5231b2fa91'), 7)\n"
     ]
    },
    {
     "data": {
      "text/html": [
       "<div>\n",
       "<style scoped>\n",
       "    .dataframe tbody tr th:only-of-type {\n",
       "        vertical-align: middle;\n",
       "    }\n",
       "\n",
       "    .dataframe tbody tr th {\n",
       "        vertical-align: top;\n",
       "    }\n",
       "\n",
       "    .dataframe thead th {\n",
       "        text-align: right;\n",
       "    }\n",
       "</style>\n",
       "<table border=\"1\" class=\"dataframe\">\n",
       "  <thead>\n",
       "    <tr style=\"text-align: right;\">\n",
       "      <th></th>\n",
       "      <th>sequence</th>\n",
       "      <th>name</th>\n",
       "      <th>nationality</th>\n",
       "      <th>numberOfShare</th>\n",
       "      <th>percentOfShare</th>\n",
       "      <th>isThaiNVDR</th>\n",
       "      <th>company</th>\n",
       "    </tr>\n",
       "  </thead>\n",
       "  <tbody>\n",
       "    <tr>\n",
       "      <th>0</th>\n",
       "      <td>1</td>\n",
       "      <td>นาย สมบัติ ลีสวัสดิ์ตระกูล</td>\n",
       "      <td></td>\n",
       "      <td>95234050</td>\n",
       "      <td>19.05</td>\n",
       "      <td>False</td>\n",
       "      <td>2s</td>\n",
       "    </tr>\n",
       "    <tr>\n",
       "      <th>0</th>\n",
       "      <td>1</td>\n",
       "      <td>UOB KAY HIAN PRIVATE LIMITED</td>\n",
       "      <td></td>\n",
       "      <td>205467426</td>\n",
       "      <td>12.91</td>\n",
       "      <td>False</td>\n",
       "      <td>thl</td>\n",
       "    </tr>\n",
       "    <tr>\n",
       "      <th>0</th>\n",
       "      <td>1</td>\n",
       "      <td>บริษัท  เมืองไทยประกันชีวิต จำกัด (มหาชน)</td>\n",
       "      <td></td>\n",
       "      <td>59649200</td>\n",
       "      <td>10.00</td>\n",
       "      <td>False</td>\n",
       "      <td>pl</td>\n",
       "    </tr>\n",
       "    <tr>\n",
       "      <th>0</th>\n",
       "      <td>1</td>\n",
       "      <td>นาย จิรวุฒิ คุวานันท์</td>\n",
       "      <td></td>\n",
       "      <td>325311216</td>\n",
       "      <td>45.45</td>\n",
       "      <td>False</td>\n",
       "      <td>b52</td>\n",
       "    </tr>\n",
       "    <tr>\n",
       "      <th>0</th>\n",
       "      <td>1</td>\n",
       "      <td>UBS AG SINGAPORE BRANCH</td>\n",
       "      <td></td>\n",
       "      <td>1226812593</td>\n",
       "      <td>32.89</td>\n",
       "      <td>False</td>\n",
       "      <td>ea</td>\n",
       "    </tr>\n",
       "  </tbody>\n",
       "</table>\n",
       "</div>"
      ],
      "text/plain": [
       "   sequence                                       name nationality  \\\n",
       "0         1                 นาย สมบัติ ลีสวัสดิ์ตระกูล               \n",
       "0         1               UOB KAY HIAN PRIVATE LIMITED               \n",
       "0         1  บริษัท  เมืองไทยประกันชีวิต จำกัด (มหาชน)               \n",
       "0         1                      นาย จิรวุฒิ คุวานันท์               \n",
       "0         1                    UBS AG SINGAPORE BRANCH               \n",
       "\n",
       "   numberOfShare  percentOfShare  isThaiNVDR company  \n",
       "0       95234050           19.05       False      2s  \n",
       "0      205467426           12.91       False     thl  \n",
       "0       59649200           10.00       False      pl  \n",
       "0      325311216           45.45       False     b52  \n",
       "0     1226812593           32.89       False      ea  "
      ]
     },
     "execution_count": 28,
     "metadata": {},
     "output_type": "execute_result"
    }
   ],
   "source": [
    "shareholder_fID = datanode.get_file_id(directory_id=landing_dir_id ,name=\"set-shareholder.parquet\")\n",
    "ddf_shareholder = datanode.read_ddf(file_id=shareholder_fID)\n",
    "print(ddf_shareholder.shape)\n",
    "ddf_shareholder.head()"
   ]
  },
  {
   "cell_type": "markdown",
   "id": "ddc872c8-9998-4a63-b92d-f4f25697ef22",
   "metadata": {},
   "source": [
    "### Merge"
   ]
  },
  {
   "cell_type": "code",
   "execution_count": 29,
   "id": "4e180fd0-a117-4bd6-92e2-60f1ca6d1514",
   "metadata": {},
   "outputs": [
    {
     "name": "stdout",
     "output_type": "stream",
     "text": [
      "(Delayed('int-e5d6c78a-4026-43a8-8988-7190ee4be66b'), 9)\n"
     ]
    }
   ],
   "source": [
    "ddf_shareholder_board = ddf_board_data.merge(ddf_shareholder, on='name')\n",
    "print(ddf_shareholder_board.shape)"
   ]
  },
  {
   "cell_type": "code",
   "execution_count": 30,
   "id": "d6bd6994-8a7a-4b73-aa10-643c05542703",
   "metadata": {},
   "outputs": [
    {
     "data": {
      "text/html": [
       "<div><strong>Dask DataFrame Structure:</strong></div>\n",
       "<div>\n",
       "<style scoped>\n",
       "    .dataframe tbody tr th:only-of-type {\n",
       "        vertical-align: middle;\n",
       "    }\n",
       "\n",
       "    .dataframe tbody tr th {\n",
       "        vertical-align: top;\n",
       "    }\n",
       "\n",
       "    .dataframe thead th {\n",
       "        text-align: right;\n",
       "    }\n",
       "</style>\n",
       "<table border=\"1\" class=\"dataframe\">\n",
       "  <thead>\n",
       "    <tr style=\"text-align: right;\">\n",
       "      <th></th>\n",
       "      <th>name</th>\n",
       "      <th>positions</th>\n",
       "      <th>company</th>\n",
       "      <th>sequence</th>\n",
       "      <th>nationality</th>\n",
       "      <th>numberOfShare</th>\n",
       "      <th>percentOfShare</th>\n",
       "    </tr>\n",
       "    <tr>\n",
       "      <th>npartitions=1</th>\n",
       "      <th></th>\n",
       "      <th></th>\n",
       "      <th></th>\n",
       "      <th></th>\n",
       "      <th></th>\n",
       "      <th></th>\n",
       "      <th></th>\n",
       "    </tr>\n",
       "  </thead>\n",
       "  <tbody>\n",
       "    <tr>\n",
       "      <th></th>\n",
       "      <td>object</td>\n",
       "      <td>object</td>\n",
       "      <td>object</td>\n",
       "      <td>int64</td>\n",
       "      <td>object</td>\n",
       "      <td>int64</td>\n",
       "      <td>float64</td>\n",
       "    </tr>\n",
       "    <tr>\n",
       "      <th></th>\n",
       "      <td>...</td>\n",
       "      <td>...</td>\n",
       "      <td>...</td>\n",
       "      <td>...</td>\n",
       "      <td>...</td>\n",
       "      <td>...</td>\n",
       "      <td>...</td>\n",
       "    </tr>\n",
       "  </tbody>\n",
       "</table>\n",
       "</div>\n",
       "<div>Dask Name: drop_by_shallow_copy, 9 tasks</div>"
      ],
      "text/plain": [
       "Dask DataFrame Structure:\n",
       "                 name positions company sequence nationality numberOfShare percentOfShare\n",
       "npartitions=1                                                                            \n",
       "               object    object  object    int64      object         int64        float64\n",
       "                  ...       ...     ...      ...         ...           ...            ...\n",
       "Dask Name: drop_by_shallow_copy, 9 tasks"
      ]
     },
     "execution_count": 30,
     "metadata": {},
     "output_type": "execute_result"
    }
   ],
   "source": [
    "ddf_shareholder_board['positions'] = ddf_shareholder_board['positions'].str.split(',')\n",
    "ddf_shareholder_board = ddf_shareholder_board.explode('positions')\n",
    "ddf_shareholder_board = ddf_shareholder_board.rename(columns={'company_x': 'company'})\n",
    "ddf_shareholder_board = ddf_shareholder_board.drop(columns=['company_y', 'isThaiNVDR'])\n",
    "ddf_shareholder_board"
   ]
  },
  {
   "cell_type": "code",
   "execution_count": 31,
   "id": "dc954268-4a6d-47c1-8bf7-6bdbb98cdf5c",
   "metadata": {},
   "outputs": [
    {
     "data": {
      "text/html": [
       "<div>\n",
       "<style scoped>\n",
       "    .dataframe tbody tr th:only-of-type {\n",
       "        vertical-align: middle;\n",
       "    }\n",
       "\n",
       "    .dataframe tbody tr th {\n",
       "        vertical-align: top;\n",
       "    }\n",
       "\n",
       "    .dataframe thead th {\n",
       "        text-align: right;\n",
       "    }\n",
       "</style>\n",
       "<table border=\"1\" class=\"dataframe\">\n",
       "  <thead>\n",
       "    <tr style=\"text-align: right;\">\n",
       "      <th></th>\n",
       "      <th>name</th>\n",
       "      <th>positions</th>\n",
       "      <th>company</th>\n",
       "      <th>sequence</th>\n",
       "      <th>nationality</th>\n",
       "      <th>numberOfShare</th>\n",
       "      <th>percentOfShare</th>\n",
       "    </tr>\n",
       "  </thead>\n",
       "  <tbody>\n",
       "    <tr>\n",
       "      <th>0</th>\n",
       "      <td>นาย อภิชาต ลี้อิสสระนุกูล</td>\n",
       "      <td>ประธานกรรมการ</td>\n",
       "      <td>stanly</td>\n",
       "      <td>2</td>\n",
       "      <td></td>\n",
       "      <td>5468771</td>\n",
       "      <td>7.14</td>\n",
       "    </tr>\n",
       "    <tr>\n",
       "      <th>1</th>\n",
       "      <td>นาย อภิชาต ลี้อิสสระนุกูล</td>\n",
       "      <td>ประธานกรรมการ</td>\n",
       "      <td>stanly</td>\n",
       "      <td>7</td>\n",
       "      <td></td>\n",
       "      <td>4697700</td>\n",
       "      <td>2.35</td>\n",
       "    </tr>\n",
       "    <tr>\n",
       "      <th>2</th>\n",
       "      <td>นาย อภิชาต ลี้อิสสระนุกูล</td>\n",
       "      <td>กรรมการ</td>\n",
       "      <td>leo</td>\n",
       "      <td>2</td>\n",
       "      <td></td>\n",
       "      <td>5468771</td>\n",
       "      <td>7.14</td>\n",
       "    </tr>\n",
       "    <tr>\n",
       "      <th>3</th>\n",
       "      <td>นาย อภิชาต ลี้อิสสระนุกูล</td>\n",
       "      <td>กรรมการ</td>\n",
       "      <td>leo</td>\n",
       "      <td>7</td>\n",
       "      <td></td>\n",
       "      <td>4697700</td>\n",
       "      <td>2.35</td>\n",
       "    </tr>\n",
       "    <tr>\n",
       "      <th>4</th>\n",
       "      <td>นาย อภิชาต ลี้อิสสระนุกูล</td>\n",
       "      <td>กรรมการ</td>\n",
       "      <td>irc</td>\n",
       "      <td>2</td>\n",
       "      <td></td>\n",
       "      <td>5468771</td>\n",
       "      <td>7.14</td>\n",
       "    </tr>\n",
       "    <tr>\n",
       "      <th>...</th>\n",
       "      <td>...</td>\n",
       "      <td>...</td>\n",
       "      <td>...</td>\n",
       "      <td>...</td>\n",
       "      <td>...</td>\n",
       "      <td>...</td>\n",
       "      <td>...</td>\n",
       "    </tr>\n",
       "    <tr>\n",
       "      <th>2007</th>\n",
       "      <td>นาย ชวลิต เศรษฐเมธีกุล</td>\n",
       "      <td>ประธานกรรมการตรวจสอบ</td>\n",
       "      <td>bdms</td>\n",
       "      <td>1</td>\n",
       "      <td></td>\n",
       "      <td>80000000</td>\n",
       "      <td>6.11</td>\n",
       "    </tr>\n",
       "    <tr>\n",
       "      <th>2008</th>\n",
       "      <td>นาย ธีธัช ธีระกุล</td>\n",
       "      <td>กรรมการอิสระ</td>\n",
       "      <td>polar</td>\n",
       "      <td>9</td>\n",
       "      <td></td>\n",
       "      <td>2710000</td>\n",
       "      <td>0.45</td>\n",
       "    </tr>\n",
       "    <tr>\n",
       "      <th>2009</th>\n",
       "      <td>น.ส. ภัทรวรรณ มานัสสถิตย์</td>\n",
       "      <td>กรรมการอิสระ</td>\n",
       "      <td>tvo</td>\n",
       "      <td>3</td>\n",
       "      <td></td>\n",
       "      <td>63706339</td>\n",
       "      <td>10.00</td>\n",
       "    </tr>\n",
       "    <tr>\n",
       "      <th>2009</th>\n",
       "      <td>น.ส. ภัทรวรรณ มานัสสถิตย์</td>\n",
       "      <td>กรรมการตรวจสอบ</td>\n",
       "      <td>tvo</td>\n",
       "      <td>3</td>\n",
       "      <td></td>\n",
       "      <td>63706339</td>\n",
       "      <td>10.00</td>\n",
       "    </tr>\n",
       "    <tr>\n",
       "      <th>2010</th>\n",
       "      <td>นาย โชคชัย นิลเจียรสกุล</td>\n",
       "      <td>กรรมการอิสระ</td>\n",
       "      <td>bbl</td>\n",
       "      <td>8</td>\n",
       "      <td></td>\n",
       "      <td>2613750</td>\n",
       "      <td>2.48</td>\n",
       "    </tr>\n",
       "  </tbody>\n",
       "</table>\n",
       "<p>2959 rows × 7 columns</p>\n",
       "</div>"
      ],
      "text/plain": [
       "                           name             positions company  sequence  \\\n",
       "0     นาย อภิชาต ลี้อิสสระนุกูล         ประธานกรรมการ  stanly         2   \n",
       "1     นาย อภิชาต ลี้อิสสระนุกูล         ประธานกรรมการ  stanly         7   \n",
       "2     นาย อภิชาต ลี้อิสสระนุกูล               กรรมการ     leo         2   \n",
       "3     นาย อภิชาต ลี้อิสสระนุกูล               กรรมการ     leo         7   \n",
       "4     นาย อภิชาต ลี้อิสสระนุกูล               กรรมการ     irc         2   \n",
       "...                         ...                   ...     ...       ...   \n",
       "2007     นาย ชวลิต เศรษฐเมธีกุล  ประธานกรรมการตรวจสอบ    bdms         1   \n",
       "2008          นาย ธีธัช ธีระกุล          กรรมการอิสระ   polar         9   \n",
       "2009  น.ส. ภัทรวรรณ มานัสสถิตย์          กรรมการอิสระ     tvo         3   \n",
       "2009  น.ส. ภัทรวรรณ มานัสสถิตย์        กรรมการตรวจสอบ     tvo         3   \n",
       "2010    นาย โชคชัย นิลเจียรสกุล          กรรมการอิสระ     bbl         8   \n",
       "\n",
       "     nationality  numberOfShare  percentOfShare  \n",
       "0                       5468771            7.14  \n",
       "1                       4697700            2.35  \n",
       "2                       5468771            7.14  \n",
       "3                       4697700            2.35  \n",
       "4                       5468771            7.14  \n",
       "...          ...            ...             ...  \n",
       "2007                   80000000            6.11  \n",
       "2008                    2710000            0.45  \n",
       "2009                   63706339           10.00  \n",
       "2009                   63706339           10.00  \n",
       "2010                    2613750            2.48  \n",
       "\n",
       "[2959 rows x 7 columns]"
      ]
     },
     "execution_count": 31,
     "metadata": {},
     "output_type": "execute_result"
    }
   ],
   "source": [
    "ddf_shareholder_board.compute()"
   ]
  },
  {
   "cell_type": "markdown",
   "id": "bf928100-9988-40a3-a462-742fb57fb800",
   "metadata": {},
   "source": [
    "##### Write Data Node (Parquet)"
   ]
  },
  {
   "cell_type": "code",
   "execution_count": 35,
   "id": "84a94514-d068-442b-b0da-e598c766879e",
   "metadata": {},
   "outputs": [
    {
     "data": {
      "text/plain": [
       "{'sucess': True,\n",
       " 'file_id': 65,\n",
       " 'path': 'SothanaV/set-scrapping/staging/set-shareholder-board.parquet',\n",
       " 'lineage': True}"
      ]
     },
     "execution_count": 35,
     "metadata": {},
     "output_type": "execute_result"
    }
   ],
   "source": [
    "datanode.write(\n",
    "    df=ddf_shareholder_board, \n",
    "    directory=staging_dir_id, \n",
    "    name=\"set-shareholder-board\", \n",
    "    profiling=True, \n",
    "    lineage=[board_data_fID, shareholder_fID]\n",
    ")"
   ]
  },
  {
   "cell_type": "markdown",
   "id": "eb8be68d-af07-4098-b617-13316a8a0b36",
   "metadata": {},
   "source": [
    "##### Write CSV"
   ]
  },
  {
   "cell_type": "code",
   "execution_count": 33,
   "id": "a8f79bf3-f796-4013-a005-74277f616243",
   "metadata": {},
   "outputs": [],
   "source": [
    "ddf_shareholder_board.compute().to_csv('dsm.tmp/shareholder_board.csv', index=False)"
   ]
  },
  {
   "cell_type": "code",
   "execution_count": 34,
   "id": "4128a9d3-75b8-4646-aaf6-9f090e63a8d0",
   "metadata": {},
   "outputs": [
    {
     "data": {
      "application/vnd.jupyter.widget-view+json": {
       "model_id": "09299eb2ed964c81a8e1365838a54597",
       "version_major": 2,
       "version_minor": 0
      },
      "text/plain": [
       "  0%|          | 0.00/358k [00:00<?, ?B/s]"
      ]
     },
     "metadata": {},
     "output_type": "display_data"
    },
    {
     "data": {
      "text/plain": [
       "{'id': 64,\n",
       " 'msg': 'file shareholder_board.csv create sucessful',\n",
       " 'path': 'SothanaV/set-scrapping/staging/shareholder_board.csv',\n",
       " 'uploaded': True}"
      ]
     },
     "execution_count": 34,
     "metadata": {},
     "output_type": "execute_result"
    }
   ],
   "source": [
    "datanode.upload_file(directory_id=staging_dir_id, file_path='dsm.tmp/shareholder_board.csv', description=\"รายชื่อบุคคลที่เป็นทั้งกรรมการบริษัทและเป็นผู้ถือหุ้นติด 10 อันดับแรกในบริษัทตัวเองจาก SET\")"
   ]
  },
  {
   "cell_type": "code",
   "execution_count": null,
   "id": "d6b03d0f-abe9-490b-9bd7-e336a116bd88",
   "metadata": {},
   "outputs": [],
   "source": []
  }
 ],
 "metadata": {
  "kernelspec": {
   "display_name": "Python 3 (ipykernel)",
   "language": "python",
   "name": "python3"
  },
  "language_info": {
   "codemirror_mode": {
    "name": "ipython",
    "version": 3
   },
   "file_extension": ".py",
   "mimetype": "text/x-python",
   "name": "python",
   "nbconvert_exporter": "python",
   "pygments_lexer": "ipython3",
   "version": "3.10.5"
  }
 },
 "nbformat": 4,
 "nbformat_minor": 5
}
