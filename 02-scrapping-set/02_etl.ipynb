{
 "cells": [
  {
   "cell_type": "code",
   "execution_count": 1,
   "id": "d4fc1195-fe7e-4449-9062-4014c7f28a8d",
   "metadata": {},
   "outputs": [],
   "source": [
    "from IPython.display import display"
   ]
  },
  {
   "cell_type": "code",
   "execution_count": 2,
   "id": "6cd4c02f-3e97-41b9-a8b2-de7e17230038",
   "metadata": {},
   "outputs": [],
   "source": [
    "from dsmlibrary.datanode import DataNode\n",
    "from tqdm.auto import tqdm\n",
    "import requests\n",
    "import pandas as pd"
   ]
  },
  {
   "cell_type": "code",
   "execution_count": 3,
   "id": "b74a6c54-85fc-4044-b7d7-e8563ed0dbbd",
   "metadata": {},
   "outputs": [
    {
     "name": "stdout",
     "output_type": "stream",
     "text": [
      "Init DataNode sucessful!\n"
     ]
    }
   ],
   "source": [
    "datanode = DataNode()"
   ]
  },
  {
   "cell_type": "code",
   "execution_count": 4,
   "id": "52ed70cb-7ad8-4a3b-979c-31db52a3b0b1",
   "metadata": {},
   "outputs": [],
   "source": [
    "landing_dir_id = 16\n",
    "staging_dir_id = 17"
   ]
  },
  {
   "cell_type": "markdown",
   "id": "97f7cea8-60c1-42d3-9312-61eab1ffa5e8",
   "metadata": {},
   "source": [
    "### Get Data"
   ]
  },
  {
   "cell_type": "markdown",
   "id": "582d5aaa-b508-4f2f-8b64-da38f4230635",
   "metadata": {},
   "source": [
    "#### Board Data"
   ]
  },
  {
   "cell_type": "code",
   "execution_count": 5,
   "id": "b6a09176-11fb-4075-bf7e-20b452e0d573",
   "metadata": {},
   "outputs": [
    {
     "name": "stdout",
     "output_type": "stream",
     "text": [
      "(7153, 3)\n"
     ]
    },
    {
     "data": {
      "text/html": [
       "<div>\n",
       "<style scoped>\n",
       "    .dataframe tbody tr th:only-of-type {\n",
       "        vertical-align: middle;\n",
       "    }\n",
       "\n",
       "    .dataframe tbody tr th {\n",
       "        vertical-align: top;\n",
       "    }\n",
       "\n",
       "    .dataframe thead th {\n",
       "        text-align: right;\n",
       "    }\n",
       "</style>\n",
       "<table border=\"1\" class=\"dataframe\">\n",
       "  <thead>\n",
       "    <tr style=\"text-align: right;\">\n",
       "      <th></th>\n",
       "      <th>name</th>\n",
       "      <th>positions</th>\n",
       "      <th>company</th>\n",
       "    </tr>\n",
       "  </thead>\n",
       "  <tbody>\n",
       "    <tr>\n",
       "      <th>0</th>\n",
       "      <td>นาย ครรชิต สิงห์สุวรรณ์</td>\n",
       "      <td>ประธานกรรมการ,กรรมการอิสระ,กรรมการตรวจสอบ</td>\n",
       "      <td>2s</td>\n",
       "    </tr>\n",
       "    <tr>\n",
       "      <th>1</th>\n",
       "      <td>นาย สมบัติ ลีสวัสดิ์ตระกูล</td>\n",
       "      <td>ประธานกรรมการบริหาร,กรรมการ</td>\n",
       "      <td>2s</td>\n",
       "    </tr>\n",
       "    <tr>\n",
       "      <th>2</th>\n",
       "      <td>นาย สุรพล สติมานนท์</td>\n",
       "      <td>รองประธานกรรมการ,กรรมการอิสระ,ประธานกรรมการตรว...</td>\n",
       "      <td>2s</td>\n",
       "    </tr>\n",
       "    <tr>\n",
       "      <th>3</th>\n",
       "      <td>นาย แสงรุ้ง นิติภาวะชน</td>\n",
       "      <td>กรรมการผู้จัดการ,กรรมการ</td>\n",
       "      <td>2s</td>\n",
       "    </tr>\n",
       "    <tr>\n",
       "      <th>4</th>\n",
       "      <td>น.ส. บุญศรี ปัญญาเปี่ยมศักดิ์</td>\n",
       "      <td>กรรมการ</td>\n",
       "      <td>2s</td>\n",
       "    </tr>\n",
       "  </tbody>\n",
       "</table>\n",
       "</div>"
      ],
      "text/plain": [
       "                            name  \\\n",
       "0        นาย ครรชิต สิงห์สุวรรณ์   \n",
       "1     นาย สมบัติ ลีสวัสดิ์ตระกูล   \n",
       "2            นาย สุรพล สติมานนท์   \n",
       "3         นาย แสงรุ้ง นิติภาวะชน   \n",
       "4  น.ส. บุญศรี ปัญญาเปี่ยมศักดิ์   \n",
       "\n",
       "                                           positions company  \n",
       "0          ประธานกรรมการ,กรรมการอิสระ,กรรมการตรวจสอบ      2s  \n",
       "1                        ประธานกรรมการบริหาร,กรรมการ      2s  \n",
       "2  รองประธานกรรมการ,กรรมการอิสระ,ประธานกรรมการตรว...      2s  \n",
       "3                           กรรมการผู้จัดการ,กรรมการ      2s  \n",
       "4                                            กรรมการ      2s  "
      ]
     },
     "execution_count": 5,
     "metadata": {},
     "output_type": "execute_result"
    }
   ],
   "source": [
    "board_data_fID = datanode.get_file_id(directory_id=landing_dir_id ,name=\"set-board.parquet\")\n",
    "ddf_board_data = datanode.read_df(file_id=board_data_fID)\n",
    "print(ddf_board_data.shape)\n",
    "ddf_board_data.head()"
   ]
  },
  {
   "cell_type": "markdown",
   "id": "11ebf998-10b0-41e6-a546-4942bd095110",
   "metadata": {},
   "source": [
    "#### Shareholder Data"
   ]
  },
  {
   "cell_type": "code",
   "execution_count": 6,
   "id": "1abd2c65-4c56-4711-b2ed-3b1cfb969baa",
   "metadata": {},
   "outputs": [
    {
     "name": "stdout",
     "output_type": "stream",
     "text": [
      "(8180, 7)\n"
     ]
    },
    {
     "data": {
      "text/html": [
       "<div>\n",
       "<style scoped>\n",
       "    .dataframe tbody tr th:only-of-type {\n",
       "        vertical-align: middle;\n",
       "    }\n",
       "\n",
       "    .dataframe tbody tr th {\n",
       "        vertical-align: top;\n",
       "    }\n",
       "\n",
       "    .dataframe thead th {\n",
       "        text-align: right;\n",
       "    }\n",
       "</style>\n",
       "<table border=\"1\" class=\"dataframe\">\n",
       "  <thead>\n",
       "    <tr style=\"text-align: right;\">\n",
       "      <th></th>\n",
       "      <th>sequence</th>\n",
       "      <th>name</th>\n",
       "      <th>nationality</th>\n",
       "      <th>numberOfShare</th>\n",
       "      <th>percentOfShare</th>\n",
       "      <th>isThaiNVDR</th>\n",
       "      <th>company</th>\n",
       "    </tr>\n",
       "  </thead>\n",
       "  <tbody>\n",
       "    <tr>\n",
       "      <th>0</th>\n",
       "      <td>1</td>\n",
       "      <td>นาย สมบัติ ลีสวัสดิ์ตระกูล</td>\n",
       "      <td></td>\n",
       "      <td>95234050</td>\n",
       "      <td>19.05</td>\n",
       "      <td>False</td>\n",
       "      <td>2s</td>\n",
       "    </tr>\n",
       "    <tr>\n",
       "      <th>1</th>\n",
       "      <td>2</td>\n",
       "      <td>นาย แสงรุ้ง นิติภาวะชน</td>\n",
       "      <td></td>\n",
       "      <td>29109087</td>\n",
       "      <td>5.82</td>\n",
       "      <td>False</td>\n",
       "      <td>2s</td>\n",
       "    </tr>\n",
       "    <tr>\n",
       "      <th>2</th>\n",
       "      <td>3</td>\n",
       "      <td>นาย ปรีดา วงศ์สถิตย์พร</td>\n",
       "      <td></td>\n",
       "      <td>22397165</td>\n",
       "      <td>4.48</td>\n",
       "      <td>False</td>\n",
       "      <td>2s</td>\n",
       "    </tr>\n",
       "    <tr>\n",
       "      <th>3</th>\n",
       "      <td>4</td>\n",
       "      <td>น.ส. ธนิกา ตั้งพูนผลวิวัฒน์</td>\n",
       "      <td></td>\n",
       "      <td>20048000</td>\n",
       "      <td>4.01</td>\n",
       "      <td>False</td>\n",
       "      <td>2s</td>\n",
       "    </tr>\n",
       "    <tr>\n",
       "      <th>4</th>\n",
       "      <td>5</td>\n",
       "      <td>น.ส. นิสาภ์ รุ่งรัตนาอุบล</td>\n",
       "      <td></td>\n",
       "      <td>17962500</td>\n",
       "      <td>3.59</td>\n",
       "      <td>False</td>\n",
       "      <td>2s</td>\n",
       "    </tr>\n",
       "  </tbody>\n",
       "</table>\n",
       "</div>"
      ],
      "text/plain": [
       "   sequence                         name nationality  numberOfShare  \\\n",
       "0         1   นาย สมบัติ ลีสวัสดิ์ตระกูล                   95234050   \n",
       "1         2       นาย แสงรุ้ง นิติภาวะชน                   29109087   \n",
       "2         3       นาย ปรีดา วงศ์สถิตย์พร                   22397165   \n",
       "3         4  น.ส. ธนิกา ตั้งพูนผลวิวัฒน์                   20048000   \n",
       "4         5    น.ส. นิสาภ์ รุ่งรัตนาอุบล                   17962500   \n",
       "\n",
       "   percentOfShare  isThaiNVDR company  \n",
       "0           19.05       False      2s  \n",
       "1            5.82       False      2s  \n",
       "2            4.48       False      2s  \n",
       "3            4.01       False      2s  \n",
       "4            3.59       False      2s  "
      ]
     },
     "execution_count": 6,
     "metadata": {},
     "output_type": "execute_result"
    }
   ],
   "source": [
    "shareholder_fID = datanode.get_file_id(directory_id=landing_dir_id ,name=\"set-shareholder.parquet\")\n",
    "ddf_shareholder = datanode.read_df(file_id=shareholder_fID)\n",
    "print(ddf_shareholder.shape)\n",
    "ddf_shareholder.head()"
   ]
  },
  {
   "cell_type": "markdown",
   "id": "ddc872c8-9998-4a63-b92d-f4f25697ef22",
   "metadata": {},
   "source": [
    "### Merge"
   ]
  },
  {
   "cell_type": "code",
   "execution_count": 7,
   "id": "4e180fd0-a117-4bd6-92e2-60f1ca6d1514",
   "metadata": {},
   "outputs": [
    {
     "name": "stdout",
     "output_type": "stream",
     "text": [
      "(2011, 9)\n"
     ]
    }
   ],
   "source": [
    "ddf_shareholder_board = ddf_board_data.merge(ddf_shareholder, on='name')\n",
    "print(ddf_shareholder_board.shape)"
   ]
  },
  {
   "cell_type": "code",
   "execution_count": 8,
   "id": "d6bd6994-8a7a-4b73-aa10-643c05542703",
   "metadata": {},
   "outputs": [
    {
     "data": {
      "text/html": [
       "<div>\n",
       "<style scoped>\n",
       "    .dataframe tbody tr th:only-of-type {\n",
       "        vertical-align: middle;\n",
       "    }\n",
       "\n",
       "    .dataframe tbody tr th {\n",
       "        vertical-align: top;\n",
       "    }\n",
       "\n",
       "    .dataframe thead th {\n",
       "        text-align: right;\n",
       "    }\n",
       "</style>\n",
       "<table border=\"1\" class=\"dataframe\">\n",
       "  <thead>\n",
       "    <tr style=\"text-align: right;\">\n",
       "      <th></th>\n",
       "      <th>name</th>\n",
       "      <th>positions</th>\n",
       "      <th>company</th>\n",
       "      <th>sequence</th>\n",
       "      <th>nationality</th>\n",
       "      <th>numberOfShare</th>\n",
       "      <th>percentOfShare</th>\n",
       "    </tr>\n",
       "  </thead>\n",
       "  <tbody>\n",
       "    <tr>\n",
       "      <th>0</th>\n",
       "      <td>นาย สมบัติ ลีสวัสดิ์ตระกูล</td>\n",
       "      <td>ประธานกรรมการบริหาร</td>\n",
       "      <td>2s</td>\n",
       "      <td>1</td>\n",
       "      <td></td>\n",
       "      <td>95234050</td>\n",
       "      <td>19.05</td>\n",
       "    </tr>\n",
       "    <tr>\n",
       "      <th>0</th>\n",
       "      <td>นาย สมบัติ ลีสวัสดิ์ตระกูล</td>\n",
       "      <td>กรรมการ</td>\n",
       "      <td>2s</td>\n",
       "      <td>1</td>\n",
       "      <td></td>\n",
       "      <td>95234050</td>\n",
       "      <td>19.05</td>\n",
       "    </tr>\n",
       "    <tr>\n",
       "      <th>1</th>\n",
       "      <td>นาย แสงรุ้ง นิติภาวะชน</td>\n",
       "      <td>กรรมการผู้จัดการ</td>\n",
       "      <td>2s</td>\n",
       "      <td>2</td>\n",
       "      <td></td>\n",
       "      <td>29109087</td>\n",
       "      <td>5.82</td>\n",
       "    </tr>\n",
       "    <tr>\n",
       "      <th>1</th>\n",
       "      <td>นาย แสงรุ้ง นิติภาวะชน</td>\n",
       "      <td>กรรมการ</td>\n",
       "      <td>2s</td>\n",
       "      <td>2</td>\n",
       "      <td></td>\n",
       "      <td>29109087</td>\n",
       "      <td>5.82</td>\n",
       "    </tr>\n",
       "    <tr>\n",
       "      <th>2</th>\n",
       "      <td>น.ส. บุญศรี ปัญญาเปี่ยมศักดิ์</td>\n",
       "      <td>กรรมการ</td>\n",
       "      <td>2s</td>\n",
       "      <td>6</td>\n",
       "      <td></td>\n",
       "      <td>15417277</td>\n",
       "      <td>3.08</td>\n",
       "    </tr>\n",
       "    <tr>\n",
       "      <th>...</th>\n",
       "      <td>...</td>\n",
       "      <td>...</td>\n",
       "      <td>...</td>\n",
       "      <td>...</td>\n",
       "      <td>...</td>\n",
       "      <td>...</td>\n",
       "      <td>...</td>\n",
       "    </tr>\n",
       "    <tr>\n",
       "      <th>2008</th>\n",
       "      <td>น.ส. จอมขวัญ จิราธิวัฒน์</td>\n",
       "      <td>กรรมการ</td>\n",
       "      <td>zen</td>\n",
       "      <td>4</td>\n",
       "      <td></td>\n",
       "      <td>34535200</td>\n",
       "      <td>11.51</td>\n",
       "    </tr>\n",
       "    <tr>\n",
       "      <th>2009</th>\n",
       "      <td>นาย ศิรุวัฒน์ ชัชวาลย์</td>\n",
       "      <td>กรรมการ</td>\n",
       "      <td>zen</td>\n",
       "      <td>7</td>\n",
       "      <td></td>\n",
       "      <td>4750000</td>\n",
       "      <td>1.58</td>\n",
       "    </tr>\n",
       "    <tr>\n",
       "      <th>2010</th>\n",
       "      <td>นาย ศุภกิจ งามจิตรเจริญ</td>\n",
       "      <td>ประธานกรรมการบริหาร</td>\n",
       "      <td>ziga</td>\n",
       "      <td>1</td>\n",
       "      <td></td>\n",
       "      <td>118701200</td>\n",
       "      <td>19.37</td>\n",
       "    </tr>\n",
       "    <tr>\n",
       "      <th>2010</th>\n",
       "      <td>นาย ศุภกิจ งามจิตรเจริญ</td>\n",
       "      <td>ประธานเจ้าหน้าที่บริหาร</td>\n",
       "      <td>ziga</td>\n",
       "      <td>1</td>\n",
       "      <td></td>\n",
       "      <td>118701200</td>\n",
       "      <td>19.37</td>\n",
       "    </tr>\n",
       "    <tr>\n",
       "      <th>2010</th>\n",
       "      <td>นาย ศุภกิจ งามจิตรเจริญ</td>\n",
       "      <td>กรรมการ</td>\n",
       "      <td>ziga</td>\n",
       "      <td>1</td>\n",
       "      <td></td>\n",
       "      <td>118701200</td>\n",
       "      <td>19.37</td>\n",
       "    </tr>\n",
       "  </tbody>\n",
       "</table>\n",
       "<p>2959 rows × 7 columns</p>\n",
       "</div>"
      ],
      "text/plain": [
       "                               name                positions company  \\\n",
       "0        นาย สมบัติ ลีสวัสดิ์ตระกูล      ประธานกรรมการบริหาร      2s   \n",
       "0        นาย สมบัติ ลีสวัสดิ์ตระกูล                  กรรมการ      2s   \n",
       "1            นาย แสงรุ้ง นิติภาวะชน         กรรมการผู้จัดการ      2s   \n",
       "1            นาย แสงรุ้ง นิติภาวะชน                  กรรมการ      2s   \n",
       "2     น.ส. บุญศรี ปัญญาเปี่ยมศักดิ์                  กรรมการ      2s   \n",
       "...                             ...                      ...     ...   \n",
       "2008       น.ส. จอมขวัญ จิราธิวัฒน์                  กรรมการ     zen   \n",
       "2009         นาย ศิรุวัฒน์ ชัชวาลย์                  กรรมการ     zen   \n",
       "2010        นาย ศุภกิจ งามจิตรเจริญ      ประธานกรรมการบริหาร    ziga   \n",
       "2010        นาย ศุภกิจ งามจิตรเจริญ  ประธานเจ้าหน้าที่บริหาร    ziga   \n",
       "2010        นาย ศุภกิจ งามจิตรเจริญ                  กรรมการ    ziga   \n",
       "\n",
       "      sequence nationality  numberOfShare  percentOfShare  \n",
       "0            1                   95234050           19.05  \n",
       "0            1                   95234050           19.05  \n",
       "1            2                   29109087            5.82  \n",
       "1            2                   29109087            5.82  \n",
       "2            6                   15417277            3.08  \n",
       "...        ...         ...            ...             ...  \n",
       "2008         4                   34535200           11.51  \n",
       "2009         7                    4750000            1.58  \n",
       "2010         1                  118701200           19.37  \n",
       "2010         1                  118701200           19.37  \n",
       "2010         1                  118701200           19.37  \n",
       "\n",
       "[2959 rows x 7 columns]"
      ]
     },
     "execution_count": 8,
     "metadata": {},
     "output_type": "execute_result"
    }
   ],
   "source": [
    "ddf_shareholder_board['positions'] = ddf_shareholder_board['positions'].str.split(',')\n",
    "ddf_shareholder_board = ddf_shareholder_board.explode('positions')\n",
    "ddf_shareholder_board = ddf_shareholder_board.rename(columns={'company_x': 'company'})\n",
    "ddf_shareholder_board = ddf_shareholder_board.drop(columns=['company_y', 'isThaiNVDR'])\n",
    "ddf_shareholder_board"
   ]
  },
  {
   "cell_type": "markdown",
   "id": "bf928100-9988-40a3-a462-742fb57fb800",
   "metadata": {},
   "source": [
    "##### Write Data Node (Parquet)"
   ]
  },
  {
   "cell_type": "code",
   "execution_count": 9,
   "id": "84a94514-d068-442b-b0da-e598c766879e",
   "metadata": {},
   "outputs": [
    {
     "data": {
      "text/plain": [
       "{'sucess': True,\n",
       " 'file_id': 53,\n",
       " 'path': 'SothanaV/set-scrapping/staging/set-shareholder-board.parquet',\n",
       " 'lineage': True}"
      ]
     },
     "execution_count": 9,
     "metadata": {},
     "output_type": "execute_result"
    }
   ],
   "source": [
    "datanode.write(\n",
    "    df=ddf_shareholder_board, \n",
    "    directory=staging_dir_id, \n",
    "    name=\"set-shareholder-board\", \n",
    "    profiling=True, \n",
    "    lineage=[board_data_fID, shareholder_fID]\n",
    ")"
   ]
  },
  {
   "cell_type": "markdown",
   "id": "eb8be68d-af07-4098-b617-13316a8a0b36",
   "metadata": {},
   "source": [
    "##### Write CSV"
   ]
  },
  {
   "cell_type": "code",
   "execution_count": 10,
   "id": "a8f79bf3-f796-4013-a005-74277f616243",
   "metadata": {},
   "outputs": [],
   "source": [
    "ddf_shareholder_board.to_csv('dsm.tmp/shareholder_board.csv', index=False)"
   ]
  },
  {
   "cell_type": "code",
   "execution_count": 11,
   "id": "4128a9d3-75b8-4646-aaf6-9f090e63a8d0",
   "metadata": {},
   "outputs": [
    {
     "data": {
      "application/vnd.jupyter.widget-view+json": {
       "model_id": "6b29a17a566d43c89909b411353f4e20",
       "version_major": 2,
       "version_minor": 0
      },
      "text/plain": [
       "  0%|          | 0.00/358k [00:00<?, ?B/s]"
      ]
     },
     "metadata": {},
     "output_type": "display_data"
    },
    {
     "data": {
      "text/plain": [
       "{'id': 54,\n",
       " 'msg': 'file shareholder_board.csv create sucessful',\n",
       " 'path': 'SothanaV/set-scrapping/staging/shareholder_board.csv',\n",
       " 'uploaded': True}"
      ]
     },
     "execution_count": 11,
     "metadata": {},
     "output_type": "execute_result"
    }
   ],
   "source": [
    "datanode.upload_file(directory_id=staging_dir_id, file_path='dsm.tmp/shareholder_board.csv', description=\"รายชื่อบุคคลที่เป็นทั้งกรรมการบริษัทและเป็นผู้ถือหุ้นติด 10 อันดับแรกในบริษัทตัวเองจาก SET\")"
   ]
  },
  {
   "cell_type": "code",
   "execution_count": null,
   "id": "d6b03d0f-abe9-490b-9bd7-e336a116bd88",
   "metadata": {},
   "outputs": [],
   "source": []
  }
 ],
 "metadata": {
  "kernelspec": {
   "display_name": "Python 3 (ipykernel)",
   "language": "python",
   "name": "python3"
  },
  "language_info": {
   "codemirror_mode": {
    "name": "ipython",
    "version": 3
   },
   "file_extension": ".py",
   "mimetype": "text/x-python",
   "name": "python",
   "nbconvert_exporter": "python",
   "pygments_lexer": "ipython3",
   "version": "3.10.5"
  }
 },
 "nbformat": 4,
 "nbformat_minor": 5
}
