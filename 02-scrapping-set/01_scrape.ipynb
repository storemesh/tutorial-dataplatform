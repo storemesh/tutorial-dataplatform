{
 "cells": [
  {
   "cell_type": "code",
   "execution_count": 1,
   "id": "69f953aa-dfeb-4e54-a2f1-6fc35b50dcfa",
   "metadata": {},
   "outputs": [],
   "source": [
    "from IPython.display import display"
   ]
  },
  {
   "cell_type": "code",
   "execution_count": 15,
   "id": "b1f55623-c149-45d5-9180-67a3ec31b09f",
   "metadata": {},
   "outputs": [],
   "source": [
    "from dsmlibrary.datanode import DataNode\n",
    "from tqdm.auto import tqdm\n",
    "import requests\n",
    "import pandas as pd\n",
    "import dask.dataframe as dd"
   ]
  },
  {
   "cell_type": "code",
   "execution_count": 3,
   "id": "02ee4122-af53-4ca7-9eae-a3a46ff9a2a5",
   "metadata": {},
   "outputs": [
    {
     "name": "stdout",
     "output_type": "stream",
     "text": [
      "Init DataNode sucessful!\n"
     ]
    }
   ],
   "source": [
    "datanode = DataNode()"
   ]
  },
  {
   "cell_type": "code",
   "execution_count": 7,
   "id": "85a742cd-72c2-4698-bc84-3056b1d82a03",
   "metadata": {},
   "outputs": [],
   "source": [
    "landing_dir_id = 16"
   ]
  },
  {
   "cell_type": "code",
   "execution_count": 8,
   "id": "979f5a17-bf66-4c13-9e69-f977bd3236f6",
   "metadata": {},
   "outputs": [],
   "source": [
    "listedCompanies_th = pd.read_csv('listedCompanies_th.csv')\n",
    "companies = list(listedCompanies_th['หลักทรัพย์'])"
   ]
  },
  {
   "cell_type": "markdown",
   "id": "fc2d1c9b-e6b2-4870-81a9-65ecadf3ba71",
   "metadata": {},
   "source": [
    "#### Board Data"
   ]
  },
  {
   "cell_type": "code",
   "execution_count": 11,
   "id": "ee37cf4b-4395-42ed-8008-6dbeeaccc0e0",
   "metadata": {
    "scrolled": true,
    "tags": []
   },
   "outputs": [
    {
     "data": {
      "application/vnd.jupyter.widget-view+json": {
       "model_id": "a984435604e9462694e66cb4e3b5443b",
       "version_major": 2,
       "version_minor": 0
      },
      "text/plain": [
       "  0%|          | 0/827 [00:00<?, ?it/s]"
      ]
     },
     "metadata": {},
     "output_type": "display_data"
    }
   ],
   "source": [
    "data_board = []\n",
    "_err = []\n",
    "for company in tqdm(companies):\n",
    "    r = requests.get(f\"https://www.set.or.th/api/set/company/{company.lower()}/board-of-director?lang=th\")\n",
    "    if r.status_code == 200 and r.json() != []:\n",
    "        try:\n",
    "            df = pd.DataFrame(r.json())\n",
    "            df['positions'] = df['positions'].apply(lambda x: \",\".join(x))\n",
    "            df['company'] = company.lower()\n",
    "        except Exception as e:\n",
    "            print(e)\n",
    "            _err.append(r.json())\n",
    "        else:\n",
    "            data_board += [df]"
   ]
  },
  {
   "cell_type": "code",
   "execution_count": 12,
   "id": "a2c7a633-4080-4b11-9fbc-55fd89bb538c",
   "metadata": {},
   "outputs": [
    {
     "data": {
      "text/html": [
       "<div>\n",
       "<style scoped>\n",
       "    .dataframe tbody tr th:only-of-type {\n",
       "        vertical-align: middle;\n",
       "    }\n",
       "\n",
       "    .dataframe tbody tr th {\n",
       "        vertical-align: top;\n",
       "    }\n",
       "\n",
       "    .dataframe thead th {\n",
       "        text-align: right;\n",
       "    }\n",
       "</style>\n",
       "<table border=\"1\" class=\"dataframe\">\n",
       "  <thead>\n",
       "    <tr style=\"text-align: right;\">\n",
       "      <th></th>\n",
       "      <th>name</th>\n",
       "      <th>positions</th>\n",
       "      <th>company</th>\n",
       "    </tr>\n",
       "  </thead>\n",
       "  <tbody>\n",
       "    <tr>\n",
       "      <th>0</th>\n",
       "      <td>นาย ครรชิต สิงห์สุวรรณ์</td>\n",
       "      <td>ประธานกรรมการ,กรรมการอิสระ,กรรมการตรวจสอบ</td>\n",
       "      <td>2s</td>\n",
       "    </tr>\n",
       "    <tr>\n",
       "      <th>1</th>\n",
       "      <td>นาย สมบัติ ลีสวัสดิ์ตระกูล</td>\n",
       "      <td>ประธานกรรมการบริหาร,กรรมการ</td>\n",
       "      <td>2s</td>\n",
       "    </tr>\n",
       "    <tr>\n",
       "      <th>2</th>\n",
       "      <td>นาย สุรพล สติมานนท์</td>\n",
       "      <td>รองประธานกรรมการ,กรรมการอิสระ,ประธานกรรมการตรว...</td>\n",
       "      <td>2s</td>\n",
       "    </tr>\n",
       "    <tr>\n",
       "      <th>3</th>\n",
       "      <td>นาย แสงรุ้ง นิติภาวะชน</td>\n",
       "      <td>กรรมการผู้จัดการ,กรรมการ</td>\n",
       "      <td>2s</td>\n",
       "    </tr>\n",
       "    <tr>\n",
       "      <th>4</th>\n",
       "      <td>น.ส. บุญศรี ปัญญาเปี่ยมศักดิ์</td>\n",
       "      <td>กรรมการ</td>\n",
       "      <td>2s</td>\n",
       "    </tr>\n",
       "    <tr>\n",
       "      <th>...</th>\n",
       "      <td>...</td>\n",
       "      <td>...</td>\n",
       "      <td>...</td>\n",
       "    </tr>\n",
       "    <tr>\n",
       "      <th>1</th>\n",
       "      <td>นาย ศุภกิจ งามจิตรเจริญ</td>\n",
       "      <td>ประธานกรรมการบริหาร,ประธานเจ้าหน้าที่บริหาร,กร...</td>\n",
       "      <td>ziga</td>\n",
       "    </tr>\n",
       "    <tr>\n",
       "      <th>2</th>\n",
       "      <td>น.ส. วราลักษณ์ งามจิตรเจริญ</td>\n",
       "      <td>กรรมการผู้จัดการ,กรรมการ</td>\n",
       "      <td>ziga</td>\n",
       "    </tr>\n",
       "    <tr>\n",
       "      <th>3</th>\n",
       "      <td>นาง มณฑา ทัสฐาน</td>\n",
       "      <td>กรรมการ</td>\n",
       "      <td>ziga</td>\n",
       "    </tr>\n",
       "    <tr>\n",
       "      <th>4</th>\n",
       "      <td>นาย พลรชฏ เปียถนอม</td>\n",
       "      <td>กรรมการอิสระ,กรรมการตรวจสอบ</td>\n",
       "      <td>ziga</td>\n",
       "    </tr>\n",
       "    <tr>\n",
       "      <th>5</th>\n",
       "      <td>นาง เอมอร โชติยะปุตตะ</td>\n",
       "      <td>กรรมการอิสระ,กรรมการตรวจสอบ</td>\n",
       "      <td>ziga</td>\n",
       "    </tr>\n",
       "  </tbody>\n",
       "</table>\n",
       "<p>7153 rows × 3 columns</p>\n",
       "</div>"
      ],
      "text/plain": [
       "                             name  \\\n",
       "0         นาย ครรชิต สิงห์สุวรรณ์   \n",
       "1      นาย สมบัติ ลีสวัสดิ์ตระกูล   \n",
       "2             นาย สุรพล สติมานนท์   \n",
       "3          นาย แสงรุ้ง นิติภาวะชน   \n",
       "4   น.ส. บุญศรี ปัญญาเปี่ยมศักดิ์   \n",
       "..                            ...   \n",
       "1         นาย ศุภกิจ งามจิตรเจริญ   \n",
       "2     น.ส. วราลักษณ์ งามจิตรเจริญ   \n",
       "3                 นาง มณฑา ทัสฐาน   \n",
       "4              นาย พลรชฏ เปียถนอม   \n",
       "5           นาง เอมอร โชติยะปุตตะ   \n",
       "\n",
       "                                            positions company  \n",
       "0           ประธานกรรมการ,กรรมการอิสระ,กรรมการตรวจสอบ      2s  \n",
       "1                         ประธานกรรมการบริหาร,กรรมการ      2s  \n",
       "2   รองประธานกรรมการ,กรรมการอิสระ,ประธานกรรมการตรว...      2s  \n",
       "3                            กรรมการผู้จัดการ,กรรมการ      2s  \n",
       "4                                             กรรมการ      2s  \n",
       "..                                                ...     ...  \n",
       "1   ประธานกรรมการบริหาร,ประธานเจ้าหน้าที่บริหาร,กร...    ziga  \n",
       "2                            กรรมการผู้จัดการ,กรรมการ    ziga  \n",
       "3                                             กรรมการ    ziga  \n",
       "4                         กรรมการอิสระ,กรรมการตรวจสอบ    ziga  \n",
       "5                         กรรมการอิสระ,กรรมการตรวจสอบ    ziga  \n",
       "\n",
       "[7153 rows x 3 columns]"
      ]
     },
     "execution_count": 12,
     "metadata": {},
     "output_type": "execute_result"
    }
   ],
   "source": [
    "df_data_board = pd.concat(data_board)\n",
    "df_data_board"
   ]
  },
  {
   "cell_type": "code",
   "execution_count": 13,
   "id": "48fa686c-79ca-4b94-b54a-f0fdfb7c64de",
   "metadata": {},
   "outputs": [],
   "source": [
    "df_data_board.to_csv('dsm.tmp/set-board.csv')"
   ]
  },
  {
   "cell_type": "code",
   "execution_count": 14,
   "id": "241bb45b-225a-4328-9116-ff819620955d",
   "metadata": {},
   "outputs": [
    {
     "name": "stdin",
     "output_type": "stream",
     "text": [
      "File set-board.csv alrady exists, do you want to replace y/n :  y\n"
     ]
    },
    {
     "data": {
      "application/vnd.jupyter.widget-view+json": {
       "model_id": "e5001cda4d494f3fa13756e8ed4d21fe",
       "version_major": 2,
       "version_minor": 0
      },
      "text/plain": [
       "  0%|          | 0.00/897k [00:00<?, ?B/s]"
      ]
     },
     "metadata": {},
     "output_type": "display_data"
    },
    {
     "data": {
      "text/plain": [
       "{'id': 49,\n",
       " 'msg': 'file set-board.csv create sucessful',\n",
       " 'path': 'SothanaV/set-scrapping/landing/set-board.csv',\n",
       " 'uploaded': True}"
      ]
     },
     "execution_count": 14,
     "metadata": {},
     "output_type": "execute_result"
    }
   ],
   "source": [
    "datanode.upload_file(directory_id=landing_dir_id, file_path='dsm.tmp/set-board.csv')"
   ]
  },
  {
   "cell_type": "code",
   "execution_count": 16,
   "id": "4b12649a-d318-4d4f-b982-0dc70a7b4d30",
   "metadata": {},
   "outputs": [
    {
     "data": {
      "text/html": [
       "<div><strong>Dask DataFrame Structure:</strong></div>\n",
       "<div>\n",
       "<style scoped>\n",
       "    .dataframe tbody tr th:only-of-type {\n",
       "        vertical-align: middle;\n",
       "    }\n",
       "\n",
       "    .dataframe tbody tr th {\n",
       "        vertical-align: top;\n",
       "    }\n",
       "\n",
       "    .dataframe thead th {\n",
       "        text-align: right;\n",
       "    }\n",
       "</style>\n",
       "<table border=\"1\" class=\"dataframe\">\n",
       "  <thead>\n",
       "    <tr style=\"text-align: right;\">\n",
       "      <th></th>\n",
       "      <th>name</th>\n",
       "      <th>positions</th>\n",
       "      <th>company</th>\n",
       "    </tr>\n",
       "    <tr>\n",
       "      <th>npartitions=1</th>\n",
       "      <th></th>\n",
       "      <th></th>\n",
       "      <th></th>\n",
       "    </tr>\n",
       "  </thead>\n",
       "  <tbody>\n",
       "    <tr>\n",
       "      <th>0</th>\n",
       "      <td>object</td>\n",
       "      <td>object</td>\n",
       "      <td>object</td>\n",
       "    </tr>\n",
       "    <tr>\n",
       "      <th>19</th>\n",
       "      <td>...</td>\n",
       "      <td>...</td>\n",
       "      <td>...</td>\n",
       "    </tr>\n",
       "  </tbody>\n",
       "</table>\n",
       "</div>\n",
       "<div>Dask Name: from_pandas, 1 tasks</div>"
      ],
      "text/plain": [
       "Dask DataFrame Structure:\n",
       "                 name positions company\n",
       "npartitions=1                          \n",
       "0              object    object  object\n",
       "19                ...       ...     ...\n",
       "Dask Name: from_pandas, 1 tasks"
      ]
     },
     "execution_count": 16,
     "metadata": {},
     "output_type": "execute_result"
    }
   ],
   "source": [
    "ddf_data_board = dd.from_pandas(df_data_board, npartitions=1)\n",
    "ddf_data_board"
   ]
  },
  {
   "cell_type": "code",
   "execution_count": 18,
   "id": "0328a435-ce26-4a6f-a0a6-913e5b9cd41d",
   "metadata": {},
   "outputs": [
    {
     "data": {
      "text/plain": [
       "{'sucess': True,\n",
       " 'file_id': 61,\n",
       " 'path': 'SothanaV/set-scrapping/landing/set-board.parquet'}"
      ]
     },
     "execution_count": 18,
     "metadata": {},
     "output_type": "execute_result"
    }
   ],
   "source": [
    "datanode.write(df=ddf_data_board, directory=landing_dir_id, name=\"set-board\", profiling=True)"
   ]
  },
  {
   "cell_type": "markdown",
   "id": "edab342b-552d-4f2c-a75a-559cec28ec46",
   "metadata": {},
   "source": [
    "### Shareholder"
   ]
  },
  {
   "cell_type": "code",
   "execution_count": 20,
   "id": "bfe7b2c4-7698-41c8-ad1e-7799cd51e92f",
   "metadata": {},
   "outputs": [
    {
     "data": {
      "application/vnd.jupyter.widget-view+json": {
       "model_id": "e0d0f000bf4a4e828d8a178f6c1aa376",
       "version_major": 2,
       "version_minor": 0
      },
      "text/plain": [
       "  0%|          | 0/827 [00:00<?, ?it/s]"
      ]
     },
     "metadata": {},
     "output_type": "display_data"
    }
   ],
   "source": [
    "all_shareholder_list = []\n",
    "for company in tqdm(companies):\n",
    "    r = requests.get(f\"https://www.set.or.th/api/set/stock/{company.lower()}/shareholder?lang=th\")    \n",
    "    if r.status_code == 200 and r.json() != []:\n",
    "        try:\n",
    "            data = r.json()\n",
    "            df = pd.DataFrame(data['majorShareholders'])\n",
    "            df['company'] = company.lower()\n",
    "        except Exception as e:\n",
    "            print(e)\n",
    "            _err.append(r.json())\n",
    "        else:\n",
    "            all_shareholder_list += [df]"
   ]
  },
  {
   "cell_type": "code",
   "execution_count": 21,
   "id": "84bcc030-0a90-4e14-829b-eeefab6b58fe",
   "metadata": {},
   "outputs": [
    {
     "data": {
      "text/html": [
       "<div>\n",
       "<style scoped>\n",
       "    .dataframe tbody tr th:only-of-type {\n",
       "        vertical-align: middle;\n",
       "    }\n",
       "\n",
       "    .dataframe tbody tr th {\n",
       "        vertical-align: top;\n",
       "    }\n",
       "\n",
       "    .dataframe thead th {\n",
       "        text-align: right;\n",
       "    }\n",
       "</style>\n",
       "<table border=\"1\" class=\"dataframe\">\n",
       "  <thead>\n",
       "    <tr style=\"text-align: right;\">\n",
       "      <th></th>\n",
       "      <th>sequence</th>\n",
       "      <th>name</th>\n",
       "      <th>nationality</th>\n",
       "      <th>numberOfShare</th>\n",
       "      <th>percentOfShare</th>\n",
       "      <th>isThaiNVDR</th>\n",
       "      <th>company</th>\n",
       "    </tr>\n",
       "  </thead>\n",
       "  <tbody>\n",
       "    <tr>\n",
       "      <th>0</th>\n",
       "      <td>1</td>\n",
       "      <td>นาย สมบัติ ลีสวัสดิ์ตระกูล</td>\n",
       "      <td></td>\n",
       "      <td>95234050</td>\n",
       "      <td>19.05</td>\n",
       "      <td>False</td>\n",
       "      <td>2s</td>\n",
       "    </tr>\n",
       "    <tr>\n",
       "      <th>1</th>\n",
       "      <td>2</td>\n",
       "      <td>นาย แสงรุ้ง นิติภาวะชน</td>\n",
       "      <td></td>\n",
       "      <td>29109087</td>\n",
       "      <td>5.82</td>\n",
       "      <td>False</td>\n",
       "      <td>2s</td>\n",
       "    </tr>\n",
       "    <tr>\n",
       "      <th>2</th>\n",
       "      <td>3</td>\n",
       "      <td>นาย ปรีดา วงศ์สถิตย์พร</td>\n",
       "      <td></td>\n",
       "      <td>22397165</td>\n",
       "      <td>4.48</td>\n",
       "      <td>False</td>\n",
       "      <td>2s</td>\n",
       "    </tr>\n",
       "    <tr>\n",
       "      <th>3</th>\n",
       "      <td>4</td>\n",
       "      <td>น.ส. ธนิกา ตั้งพูนผลวิวัฒน์</td>\n",
       "      <td></td>\n",
       "      <td>20048000</td>\n",
       "      <td>4.01</td>\n",
       "      <td>False</td>\n",
       "      <td>2s</td>\n",
       "    </tr>\n",
       "    <tr>\n",
       "      <th>4</th>\n",
       "      <td>5</td>\n",
       "      <td>น.ส. นิสาภ์ รุ่งรัตนาอุบล</td>\n",
       "      <td></td>\n",
       "      <td>17962500</td>\n",
       "      <td>3.59</td>\n",
       "      <td>False</td>\n",
       "      <td>2s</td>\n",
       "    </tr>\n",
       "  </tbody>\n",
       "</table>\n",
       "</div>"
      ],
      "text/plain": [
       "   sequence                         name nationality  numberOfShare  \\\n",
       "0         1   นาย สมบัติ ลีสวัสดิ์ตระกูล                   95234050   \n",
       "1         2       นาย แสงรุ้ง นิติภาวะชน                   29109087   \n",
       "2         3       นาย ปรีดา วงศ์สถิตย์พร                   22397165   \n",
       "3         4  น.ส. ธนิกา ตั้งพูนผลวิวัฒน์                   20048000   \n",
       "4         5    น.ส. นิสาภ์ รุ่งรัตนาอุบล                   17962500   \n",
       "\n",
       "   percentOfShare  isThaiNVDR company  \n",
       "0           19.05       False      2s  \n",
       "1            5.82       False      2s  \n",
       "2            4.48       False      2s  \n",
       "3            4.01       False      2s  \n",
       "4            3.59       False      2s  "
      ]
     },
     "execution_count": 21,
     "metadata": {},
     "output_type": "execute_result"
    }
   ],
   "source": [
    "df_all_shareholder = pd.concat(all_shareholder_list)\n",
    "df_all_shareholder.head()"
   ]
  },
  {
   "cell_type": "code",
   "execution_count": 22,
   "id": "e88542c1-e538-4b01-8eca-d1b60d5af4c8",
   "metadata": {},
   "outputs": [],
   "source": [
    "df_all_shareholder.to_csv('dsm.tmp/shareholder.csv')"
   ]
  },
  {
   "cell_type": "code",
   "execution_count": 23,
   "id": "dcac19bc-61d1-4a69-98d9-116c25b6c44a",
   "metadata": {},
   "outputs": [
    {
     "name": "stdin",
     "output_type": "stream",
     "text": [
      "File shareholder.csv alrady exists, do you want to replace y/n :  y\n"
     ]
    },
    {
     "data": {
      "application/vnd.jupyter.widget-view+json": {
       "model_id": "7a516a4e182b4f3bb8ed4a05e47183e8",
       "version_major": 2,
       "version_minor": 0
      },
      "text/plain": [
       "  0%|          | 0.00/781k [00:00<?, ?B/s]"
      ]
     },
     "metadata": {},
     "output_type": "display_data"
    },
    {
     "data": {
      "text/plain": [
       "{'id': 51,\n",
       " 'msg': 'file shareholder.csv create sucessful',\n",
       " 'path': 'SothanaV/set-scrapping/landing/shareholder.csv',\n",
       " 'uploaded': True}"
      ]
     },
     "execution_count": 23,
     "metadata": {},
     "output_type": "execute_result"
    }
   ],
   "source": [
    "datanode.upload_file(directory_id=landing_dir_id, file_path='dsm.tmp/shareholder.csv')"
   ]
  },
  {
   "cell_type": "code",
   "execution_count": 24,
   "id": "ca1a5638-817c-4b73-a54a-4a3e6cdf17c6",
   "metadata": {},
   "outputs": [
    {
     "data": {
      "text/html": [
       "<div><strong>Dask DataFrame Structure:</strong></div>\n",
       "<div>\n",
       "<style scoped>\n",
       "    .dataframe tbody tr th:only-of-type {\n",
       "        vertical-align: middle;\n",
       "    }\n",
       "\n",
       "    .dataframe tbody tr th {\n",
       "        vertical-align: top;\n",
       "    }\n",
       "\n",
       "    .dataframe thead th {\n",
       "        text-align: right;\n",
       "    }\n",
       "</style>\n",
       "<table border=\"1\" class=\"dataframe\">\n",
       "  <thead>\n",
       "    <tr style=\"text-align: right;\">\n",
       "      <th></th>\n",
       "      <th>sequence</th>\n",
       "      <th>name</th>\n",
       "      <th>nationality</th>\n",
       "      <th>numberOfShare</th>\n",
       "      <th>percentOfShare</th>\n",
       "      <th>isThaiNVDR</th>\n",
       "      <th>company</th>\n",
       "    </tr>\n",
       "    <tr>\n",
       "      <th>npartitions=1</th>\n",
       "      <th></th>\n",
       "      <th></th>\n",
       "      <th></th>\n",
       "      <th></th>\n",
       "      <th></th>\n",
       "      <th></th>\n",
       "      <th></th>\n",
       "    </tr>\n",
       "  </thead>\n",
       "  <tbody>\n",
       "    <tr>\n",
       "      <th>0</th>\n",
       "      <td>int64</td>\n",
       "      <td>object</td>\n",
       "      <td>object</td>\n",
       "      <td>int64</td>\n",
       "      <td>float64</td>\n",
       "      <td>bool</td>\n",
       "      <td>object</td>\n",
       "    </tr>\n",
       "    <tr>\n",
       "      <th>26</th>\n",
       "      <td>...</td>\n",
       "      <td>...</td>\n",
       "      <td>...</td>\n",
       "      <td>...</td>\n",
       "      <td>...</td>\n",
       "      <td>...</td>\n",
       "      <td>...</td>\n",
       "    </tr>\n",
       "  </tbody>\n",
       "</table>\n",
       "</div>\n",
       "<div>Dask Name: from_pandas, 1 tasks</div>"
      ],
      "text/plain": [
       "Dask DataFrame Structure:\n",
       "              sequence    name nationality numberOfShare percentOfShare isThaiNVDR company\n",
       "npartitions=1                                                                             \n",
       "0                int64  object      object         int64        float64       bool  object\n",
       "26                 ...     ...         ...           ...            ...        ...     ...\n",
       "Dask Name: from_pandas, 1 tasks"
      ]
     },
     "execution_count": 24,
     "metadata": {},
     "output_type": "execute_result"
    }
   ],
   "source": [
    "ddf_all_shareholder = dd.from_pandas(df_all_shareholder, npartitions=1)\n",
    "ddf_all_shareholder"
   ]
  },
  {
   "cell_type": "code",
   "execution_count": 25,
   "id": "0848a2c7-eac7-4e0c-b21f-da75c5c18781",
   "metadata": {},
   "outputs": [
    {
     "data": {
      "text/plain": [
       "{'sucess': True,\n",
       " 'file_id': 62,\n",
       " 'path': 'SothanaV/set-scrapping/landing/set-shareholder.parquet'}"
      ]
     },
     "execution_count": 25,
     "metadata": {},
     "output_type": "execute_result"
    }
   ],
   "source": [
    "datanode.write(df=ddf_all_shareholder, directory=landing_dir_id, name=\"set-shareholder\", profiling=True)"
   ]
  },
  {
   "cell_type": "code",
   "execution_count": null,
   "id": "a6c37b32-252b-46d2-8074-e4148b6d57ae",
   "metadata": {},
   "outputs": [],
   "source": []
  }
 ],
 "metadata": {
  "kernelspec": {
   "display_name": "Python 3 (ipykernel)",
   "language": "python",
   "name": "python3"
  },
  "language_info": {
   "codemirror_mode": {
    "name": "ipython",
    "version": 3
   },
   "file_extension": ".py",
   "mimetype": "text/x-python",
   "name": "python",
   "nbconvert_exporter": "python",
   "pygments_lexer": "ipython3",
   "version": "3.10.5"
  }
 },
 "nbformat": 4,
 "nbformat_minor": 5
}
