{
 "cells": [
  {
   "cell_type": "markdown",
   "id": "8776c1ef-4830-4d67-87b0-55be1e69c995",
   "metadata": {},
   "source": [
    "# 02_entiry-extract\n",
    "- entity extraction from news description using trasnformer `Davlan/xlm-roberta-base-ner-hrl`"
   ]
  },
  {
   "cell_type": "markdown",
   "id": "573b8282-c8f8-4a21-9e01-637bb228ff05",
   "metadata": {},
   "source": [
    "### install extra library"
   ]
  },
  {
   "cell_type": "code",
   "execution_count": null,
   "id": "8a803140-e672-477e-bebb-d32f1e554b54",
   "metadata": {
    "tags": []
   },
   "outputs": [],
   "source": [
    "!pip install transformers torch\n",
    "!pip install sentencepiece"
   ]
  },
  {
   "cell_type": "markdown",
   "id": "d395e9eb-6ddb-4c6e-a492-b9399b63dc08",
   "metadata": {},
   "source": [
    "### read stored data from DataPlatform"
   ]
  },
  {
   "cell_type": "code",
   "execution_count": null,
   "id": "fca0f4c3-5b5a-4515-b714-c5dd12c622e3",
   "metadata": {},
   "outputs": [],
   "source": [
    "from dsmlibrary.datanode import DataNode\n",
    "import json\n",
    "from tqdm.auto import tqdm\n",
    "import pandas as pd"
   ]
  },
  {
   "cell_type": "code",
   "execution_count": null,
   "id": "c882c18e-5ae9-4a38-bcfc-ea730be0986b",
   "metadata": {},
   "outputs": [],
   "source": [
    "dir_raw_id = <YOUR RAW DIR ID>\n",
    "dir_process_id = <YOUR PROCESS DIR ID>"
   ]
  },
  {
   "cell_type": "code",
   "execution_count": null,
   "id": "727cf12f-b64b-48ea-a304-07be454a5143",
   "metadata": {},
   "outputs": [],
   "source": [
    "datanode = DataNode()"
   ]
  },
  {
   "cell_type": "code",
   "execution_count": null,
   "id": "a36adc7d-df3e-4e6e-9817-a96efa197382",
   "metadata": {},
   "outputs": [],
   "source": [
    "meta, fp = datanode.get_file(datanode.get_file_id(directory_id=dir_raw_id, name='news.json'))\n",
    "meta"
   ]
  },
  {
   "cell_type": "code",
   "execution_count": null,
   "id": "2df0dc68-08ca-4c88-af38-3f996c0c5062",
   "metadata": {
    "tags": []
   },
   "outputs": [],
   "source": [
    "data = json.load(fp)\n",
    "data"
   ]
  },
  {
   "cell_type": "markdown",
   "id": "e73cf1a4-1d23-41af-98df-74d45fd70899",
   "metadata": {},
   "source": [
    "### NER (NameEntitiesRegcognition)\n",
    "- extract entity from news description"
   ]
  },
  {
   "cell_type": "code",
   "execution_count": null,
   "id": "b335db10-39da-4a44-8f4f-801957090981",
   "metadata": {},
   "outputs": [],
   "source": [
    "from transformers import AutoTokenizer, AutoModelForTokenClassification\n",
    "from transformers import pipeline"
   ]
  },
  {
   "cell_type": "code",
   "execution_count": null,
   "id": "1bbc003c-e221-4473-9860-1f738d5d0314",
   "metadata": {},
   "outputs": [],
   "source": [
    "tokenizer = AutoTokenizer.from_pretrained(\"Davlan/xlm-roberta-base-ner-hrl\")\n",
    "model = AutoModelForTokenClassification.from_pretrained(\"Davlan/xlm-roberta-base-ner-hrl\")\n",
    "nlp = pipeline(\"ner\", model=model, tokenizer=tokenizer)"
   ]
  },
  {
   "cell_type": "code",
   "execution_count": null,
   "id": "3ff5e916-b865-4451-a5fe-197abafc08d6",
   "metadata": {},
   "outputs": [],
   "source": [
    "example = \"My name is Wolfgang and I live in Berlin\"\n",
    "\n",
    "ner_results = nlp(example)\n",
    "print(ner_results)"
   ]
  },
  {
   "cell_type": "code",
   "execution_count": null,
   "id": "cfd3078b-553b-41d2-88ca-33acb5ff8b11",
   "metadata": {},
   "outputs": [],
   "source": []
  },
  {
   "cell_type": "code",
   "execution_count": null,
   "id": "3717641c-be08-4660-a22a-74707189daab",
   "metadata": {},
   "outputs": [],
   "source": [
    "def post_process(preds):\n",
    "    data = []\n",
    "    for i in range(len(preds)): \n",
    "        a = preds[i]\n",
    "        text = a.get('word')\n",
    "        for j in range(i, len(preds)):\n",
    "            b = preds[j]\n",
    "            if b.get('start') == a.get('end'):\n",
    "                text += b.get('word')\n",
    "                a = b\n",
    "        data.append({\n",
    "            'type': a.get('entity'),\n",
    "            'text': text\n",
    "        })\n",
    "    tmp = []\n",
    "    for elm in data:\n",
    "        text = elm.get('text')\n",
    "        if bool(re.match(\"[ก-๛]|▁\", text)):\n",
    "            elm.update({'text': text.replace('▁', ' ')})\n",
    "            tmp.append(elm)\n",
    "    return tmp"
   ]
  },
  {
   "cell_type": "code",
   "execution_count": null,
   "id": "79251ff8-6ee2-44e2-a3c8-7d219c74f46b",
   "metadata": {
    "tags": []
   },
   "outputs": [],
   "source": [
    "text = data[0]['description']\n",
    "text"
   ]
  },
  {
   "cell_type": "code",
   "execution_count": null,
   "id": "8c597b55-e95e-4e52-b8ad-db8fe03160ea",
   "metadata": {
    "tags": []
   },
   "outputs": [],
   "source": [
    "output = nlp(text)\n",
    "output"
   ]
  },
  {
   "cell_type": "code",
   "execution_count": null,
   "id": "bb274f72-5d41-4e91-906a-a0c2de84ca27",
   "metadata": {
    "tags": []
   },
   "outputs": [],
   "source": [
    "post_process(output)"
   ]
  },
  {
   "cell_type": "markdown",
   "id": "1b4009ec-70e2-45a7-b9e9-e7cc01f480d8",
   "metadata": {},
   "source": [
    "### Process news to spo"
   ]
  },
  {
   "cell_type": "code",
   "execution_count": null,
   "id": "6667bb97-89e9-4689-933d-389bea7c12d7",
   "metadata": {},
   "outputs": [],
   "source": [
    "spo = []\n",
    "for news in tqdm(data):\n",
    "    description = news.get('description') \n",
    "    if description == None:\n",
    "        continue\n",
    "    ner = nlp(description)\n",
    "    processed = post_process(ner)\n",
    "    for kw in processed:\n",
    "        spo.append({\n",
    "            'subject': news.get('title', \"\"),\n",
    "            'predicate': kw.get('type', \"\"),\n",
    "            'object': kw.get('text', \"\")\n",
    "        })"
   ]
  },
  {
   "cell_type": "code",
   "execution_count": null,
   "id": "85df9b84-bee1-4966-9f19-8bbd5fb6505a",
   "metadata": {},
   "outputs": [],
   "source": [
    "df = pd.DataFrame(spo)\n",
    "df['predicate'] = df['predicate'].apply(lambda x: x[2:])\n",
    "df"
   ]
  },
  {
   "cell_type": "markdown",
   "id": "29ea489b-00b1-474a-a4b9-7dac580410bb",
   "metadata": {},
   "source": [
    "### write DataNode to DataPlatform"
   ]
  },
  {
   "cell_type": "code",
   "execution_count": null,
   "id": "b8c7855f-acef-4074-9cf8-6562a2a55682",
   "metadata": {},
   "outputs": [],
   "source": [
    "datanode.write(df=df, directory=dir_process_id, name=\"spo\", profiling=True, lineage=[datanode.get_file_id(directory_id=dir_raw_id, name='news.json')])"
   ]
  },
  {
   "cell_type": "code",
   "execution_count": null,
   "id": "d24a8cb6-daf4-4954-96d6-d505ab4ddc8f",
   "metadata": {},
   "outputs": [],
   "source": []
  }
 ],
 "metadata": {
  "kernelspec": {
   "display_name": "Python 3 (ipykernel)",
   "language": "python",
   "name": "python3"
  },
  "language_info": {
   "codemirror_mode": {
    "name": "ipython",
    "version": 3
   },
   "file_extension": ".py",
   "mimetype": "text/x-python",
   "name": "python",
   "nbconvert_exporter": "python",
   "pygments_lexer": "ipython3",
   "version": "3.10.4"
  }
 },
 "nbformat": 4,
 "nbformat_minor": 5
}
