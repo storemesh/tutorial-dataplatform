{
 "cells": [
  {
   "cell_type": "markdown",
   "id": "005ac4b5-d173-43a2-b1e9-ca00af7a4fa8",
   "metadata": {},
   "source": [
    "# 03_graph\n",
    "- process news SPO analytics via graph algorithm"
   ]
  },
  {
   "cell_type": "markdown",
   "id": "f662b564-2dea-40ca-848e-4c89d9de7fce",
   "metadata": {},
   "source": [
    "### install extra library"
   ]
  },
  {
   "cell_type": "code",
   "execution_count": null,
   "id": "6ed3dc06-8986-4ce6-bfc2-2c3eb5c4e803",
   "metadata": {},
   "outputs": [],
   "source": [
    "!pip install networkx"
   ]
  },
  {
   "cell_type": "markdown",
   "id": "5335e55a-dd12-46bf-a6bc-987b2d981805",
   "metadata": {},
   "source": [
    "### read news SPO from DataPlatform"
   ]
  },
  {
   "cell_type": "code",
   "execution_count": null,
   "id": "db9e54e7-ead5-4437-8c4a-0e1c11c43ddd",
   "metadata": {},
   "outputs": [],
   "source": [
    "from dsmlibrary.datanode import DataNode\n",
    "from tqdm.auto import tqdm"
   ]
  },
  {
   "cell_type": "code",
   "execution_count": null,
   "id": "d1ce9e14-1726-419b-9713-d623cb128c20",
   "metadata": {},
   "outputs": [],
   "source": [
    "datanode = DataNode()"
   ]
  },
  {
   "cell_type": "code",
   "execution_count": null,
   "id": "3ca5969f-4a2b-4327-ab8d-1f33da325899",
   "metadata": {},
   "outputs": [],
   "source": [
    "dir_process_id = <YOUR PROCESS DIR ID>"
   ]
  },
  {
   "cell_type": "code",
   "execution_count": null,
   "id": "46069250-fc5b-4233-8991-4e4d6ad18678",
   "metadata": {},
   "outputs": [],
   "source": [
    "df = datanode.read_df(datanode.get_file_id(directory_id=dir_process_id, name=\"spo.parquet\"))\n",
    "df"
   ]
  },
  {
   "cell_type": "markdown",
   "id": "464b6d9b-288c-4e7e-8337-a2f2b42d1fba",
   "metadata": {},
   "source": [
    "### prepair graph data"
   ]
  },
  {
   "cell_type": "code",
   "execution_count": null,
   "id": "defe9e17-ab32-4128-b36a-090c10c4de24",
   "metadata": {
    "tags": []
   },
   "outputs": [],
   "source": [
    "graph_data = [(elm.get('subject'), elm.get('object')) for elm in df.to_dict('records')]\n",
    "graph_data"
   ]
  },
  {
   "cell_type": "code",
   "execution_count": null,
   "id": "c2ca3686-623f-4cbf-839f-9186718141ed",
   "metadata": {},
   "outputs": [],
   "source": [
    "import networkx as nx\n",
    "import numpy as np\n",
    "import matplotlib.pyplot as plt\n",
    "\n",
    "from bokeh.io import output_notebook, show, save\n",
    "from bokeh.models import Range1d, Circle, ColumnDataSource, MultiLine\n",
    "from bokeh.plotting import figure\n",
    "from bokeh.plotting import from_networkx"
   ]
  },
  {
   "cell_type": "code",
   "execution_count": null,
   "id": "e4276def-fb34-430c-8da8-b304af884479",
   "metadata": {},
   "outputs": [],
   "source": [
    "output_notebook()"
   ]
  },
  {
   "cell_type": "code",
   "execution_count": null,
   "id": "9e9fe889-dd4b-49f5-97ee-bb41b9f9d548",
   "metadata": {},
   "outputs": [],
   "source": [
    "'''\n",
    "use for clear bokeh plot\n",
    "'''\n",
    "# from bokeh.io import curdoc\n",
    "# curdoc().clear()"
   ]
  },
  {
   "cell_type": "code",
   "execution_count": null,
   "id": "41a0c76a-f7d4-461f-8c4c-aee34804c314",
   "metadata": {},
   "outputs": [],
   "source": []
  },
  {
   "cell_type": "code",
   "execution_count": null,
   "id": "7274f565-6bac-4b23-998b-4d67b264fd32",
   "metadata": {
    "tags": []
   },
   "outputs": [],
   "source": [
    "news_titles = {elm:'name' for elm in list(df['subject'].unique())}\n",
    "news_titles"
   ]
  },
  {
   "cell_type": "code",
   "execution_count": null,
   "id": "812e76d7-a823-4aea-ac37-0e8da0ce36cd",
   "metadata": {
    "tags": []
   },
   "outputs": [],
   "source": [
    "node_colors = {elm:'skyblue' if elm in news_titles else 'yellow' for elm in G.nodes()}\n",
    "node_colors"
   ]
  },
  {
   "cell_type": "code",
   "execution_count": null,
   "id": "e8e39294-6974-4e07-8251-ed2ec2a8f698",
   "metadata": {},
   "outputs": [],
   "source": [
    "G = nx.Graph(graph_data)\n",
    "G"
   ]
  },
  {
   "cell_type": "code",
   "execution_count": null,
   "id": "77a989c1-d47e-4b6f-a916-fc36a3ce20c1",
   "metadata": {},
   "outputs": [],
   "source": [
    "# plt.figure(figsize=(16,8))\n",
    "# nx.draw_kamada_kawai(G, node_size=100)\n",
    "# plt.show()"
   ]
  },
  {
   "cell_type": "code",
   "execution_count": null,
   "id": "7c75af77-0234-44d7-b4b5-7e033f16dd8b",
   "metadata": {},
   "outputs": [],
   "source": [
    "# plt.figure(figsize=(16,8))\n",
    "# nx.draw_spring(G, node_size=100)\n",
    "# plt.show()"
   ]
  },
  {
   "cell_type": "markdown",
   "id": "aa6b17e2-2f93-4b57-80cf-cd7117635dd7",
   "metadata": {},
   "source": [
    "### visualize raw data"
   ]
  },
  {
   "cell_type": "code",
   "execution_count": null,
   "id": "58c07516-b222-4a3a-86c0-008795701279",
   "metadata": {},
   "outputs": [],
   "source": [
    "title = \"News and NameEntities\"\n",
    "HOVER_TOOLTIPS = [(\"Character\", \"@index\")]\n",
    "nx.set_node_attributes(G, node_colors, 'node_colors')\n",
    "plot = figure(tooltips = HOVER_TOOLTIPS,\n",
    "              tools=\"pan,wheel_zoom,save,reset,hover\", active_scroll='wheel_zoom',\n",
    "            x_range=Range1d(-10.1, 10.1), y_range=Range1d(-10.1, 10.1), title=title,\n",
    "              frame_width=1200, frame_height=800\n",
    " )\n",
    "\n",
    "network_graph = from_networkx(G, nx.kamada_kawai_layout, scale=10, center=(0, 0))\n",
    "network_graph.node_renderer.glyph = Circle(size=15, fill_color='node_colors')\n",
    "network_graph.edge_renderer.glyph = MultiLine(line_alpha=0.5, line_width=1)\n",
    "plot.renderers.append(network_graph)\n",
    "show(plot)"
   ]
  },
  {
   "cell_type": "markdown",
   "id": "163fa17d-9490-4832-93e1-999abf624f31",
   "metadata": {},
   "source": [
    "### Compute betweenness_centrality graph"
   ]
  },
  {
   "cell_type": "code",
   "execution_count": null,
   "id": "f423aba6-74ec-4138-8b6c-d7aa18a8525d",
   "metadata": {},
   "outputs": [],
   "source": [
    "def cal_size(val, k=10, k2=1000):\n",
    "    val = val * k * k2\n",
    "    if val > k: \n",
    "        return val\n",
    "    return k"
   ]
  },
  {
   "cell_type": "code",
   "execution_count": null,
   "id": "e1204408-bf05-419b-82a5-6e9b06d82e77",
   "metadata": {},
   "outputs": [],
   "source": [
    "graph_values = nx.centrality.betweenness.betweenness_centrality(G)\n",
    "node_size = {k:cal_size(v, k=10, k2=1000) for k,v in graph_values.items()}"
   ]
  },
  {
   "cell_type": "code",
   "execution_count": null,
   "id": "542a1bcf-d9ec-4fac-8b63-a8fe8635ad33",
   "metadata": {},
   "outputs": [],
   "source": [
    "title = \"betweenness_centrality\"\n",
    "HOVER_TOOLTIPS = [(\"Character\", \"@index\")]\n",
    "\n",
    "nx.set_node_attributes(G, node_size, 'node_size')\n",
    "nx.set_node_attributes(G, node_colors, 'node_colors')\n",
    "\n",
    "plot = figure(tooltips = HOVER_TOOLTIPS,\n",
    "              tools=\"pan,wheel_zoom,save,reset,hover\", active_scroll='wheel_zoom',\n",
    "            x_range=Range1d(-10.1, 10.1), y_range=Range1d(-10.1, 10.1), title=title,\n",
    "              frame_width=1200, frame_height=800\n",
    ")\n",
    "\n",
    "network_graph = from_networkx(G, nx.kamada_kawai_layout, scale=10, center=(0, 0))\n",
    "network_graph.node_renderer.glyph = Circle(fill_color='node_colors', size='node_size')\n",
    "network_graph.edge_renderer.glyph = MultiLine(line_alpha=0.5, line_width=1)\n",
    "plot.renderers.append(network_graph)\n",
    "show(plot)"
   ]
  },
  {
   "cell_type": "markdown",
   "id": "8e8b55d5-2e0a-4402-b1f4-aae933552c9d",
   "metadata": {},
   "source": [
    "### compute eigenvector_centrality"
   ]
  },
  {
   "cell_type": "code",
   "execution_count": null,
   "id": "5ed83b57-f735-4794-b92e-363966376a1b",
   "metadata": {},
   "outputs": [],
   "source": [
    "graph_values = nx.centrality.eigenvector.eigenvector_centrality(G, max_iter=600)\n",
    "node_size = {k:cal_size(v, k=10, k2=15) for k,v in graph_values.items()}"
   ]
  },
  {
   "cell_type": "code",
   "execution_count": null,
   "id": "67567f07-8b1e-4f14-a08a-393cf02021a2",
   "metadata": {},
   "outputs": [],
   "source": [
    "title = \"xxx\"\n",
    "HOVER_TOOLTIPS = [(\"Character\", \"@index\")]\n",
    "\n",
    "nx.set_node_attributes(G, node_size, 'node_size') \n",
    "nx.set_node_attributes(G, node_colors, 'node_colors')\n",
    "\n",
    "plot = figure(tooltips = HOVER_TOOLTIPS,\n",
    "              tools=\"pan,wheel_zoom,save,reset,hover\", active_scroll='wheel_zoom',\n",
    "            x_range=Range1d(-10.1, 10.1), y_range=Range1d(-10.1, 10.1), title=title,\n",
    "              frame_width=1200, frame_height=800\n",
    ")\n",
    "\n",
    "network_graph = from_networkx(G, nx.kamada_kawai_layout, scale=10, center=(0, 0))\n",
    "network_graph.node_renderer.glyph = Circle(fill_color='node_colors', size='node_size')\n",
    "network_graph.edge_renderer.glyph = MultiLine(line_alpha=0.5, line_width=1)\n",
    "plot.renderers.append(network_graph)\n",
    "show(plot)"
   ]
  },
  {
   "cell_type": "code",
   "execution_count": null,
   "id": "d890fa2a-435a-4ad1-868a-a327b6ddb5c9",
   "metadata": {},
   "outputs": [],
   "source": []
  }
 ],
 "metadata": {
  "kernelspec": {
   "display_name": "Python 3 (ipykernel)",
   "language": "python",
   "name": "python3"
  },
  "language_info": {
   "codemirror_mode": {
    "name": "ipython",
    "version": 3
   },
   "file_extension": ".py",
   "mimetype": "text/x-python",
   "name": "python",
   "nbconvert_exporter": "python",
   "pygments_lexer": "ipython3",
   "version": "3.10.4"
  }
 },
 "nbformat": 4,
 "nbformat_minor": 5
}
