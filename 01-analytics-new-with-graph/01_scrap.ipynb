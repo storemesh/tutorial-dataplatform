{
 "cells": [
  {
   "cell_type": "markdown",
   "id": "fcef6729-5890-4ea9-b91c-d34df4326986",
   "metadata": {},
   "source": [
    "# 01_scrap\n",
    "- scrapping data from newsdata.io and upload to DataPlatform"
   ]
  },
  {
   "cell_type": "markdown",
   "id": "94a72a85-cebd-4448-b86c-92fb6c23f028",
   "metadata": {},
   "source": [
    "## Getting data from newsdata.io"
   ]
  },
  {
   "cell_type": "code",
   "execution_count": 69,
   "id": "dc4b604f-ec03-419e-8f89-ad07b8469ffd",
   "metadata": {},
   "outputs": [],
   "source": [
    "import requests\n",
    "from tqdm.auto import tqdm\n",
    "import json"
   ]
  },
  {
   "cell_type": "code",
   "execution_count": 71,
   "id": "c976838b-0727-4198-bdc5-7cf073e0b821",
   "metadata": {},
   "outputs": [],
   "source": [
    "API_KEY = \"<YOUR newsdata apikey>\"\n",
    "N_PAGE = 10"
   ]
  },
  {
   "cell_type": "code",
   "execution_count": 72,
   "id": "389cb8cc-71fd-4dcd-9e56-22edf3fe3d65",
   "metadata": {},
   "outputs": [
    {
     "data": {
      "application/vnd.jupyter.widget-view+json": {
       "model_id": "0247a485e96b47c2bcbff4fd26f4333d",
       "version_major": 2,
       "version_minor": 0
      },
      "text/plain": [
       "  0%|          | 0/10 [00:00<?, ?it/s]"
      ]
     },
     "metadata": {},
     "output_type": "display_data"
    },
    {
     "name": "stdout",
     "output_type": "stream",
     "text": [
      "page 1 => has 10 news\n",
      "page 2 => has 10 news\n",
      "page 3 => has 10 news\n",
      "page 4 => has 10 news\n",
      "page 5 => has 10 news\n",
      "page 6 => has 10 news\n",
      "page 7 => has 10 news\n",
      "page 8 => has 10 news\n",
      "page 9 => has 10 news\n",
      "page 10 => has 10 news\n"
     ]
    }
   ],
   "source": [
    "news = []\n",
    "for page_number in tqdm(range(N_PAGE)):\n",
    "    page_number = page_number + 1\n",
    "    r = requests.get(f\"https://newsdata.io/api/1/news?apikey={API_KEY}&category=business&page={page_number}\")\n",
    "    if r.status_code == 200:\n",
    "        data = r.json().get('results', [])\n",
    "        print(f\"page {page_number} => has {len(data)} news\")\n",
    "        news += data\n",
    "    else:\n",
    "        print(f\"error at page : {page_number}, status {r}\")"
   ]
  },
  {
   "cell_type": "code",
   "execution_count": 73,
   "id": "e94266bb",
   "metadata": {},
   "outputs": [
    {
     "name": "stdout",
     "output_type": "stream",
     "text": [
      "Total news : 100\n"
     ]
    }
   ],
   "source": [
    "print(f\"Total news : {len(news)}\")"
   ]
  },
  {
   "cell_type": "markdown",
   "id": "06abaab3-1d3d-42b7-b180-920dc32edac0",
   "metadata": {},
   "source": [
    "- dump data to json file"
   ]
  },
  {
   "cell_type": "code",
   "execution_count": 74,
   "id": "03ebf1ce",
   "metadata": {},
   "outputs": [],
   "source": [
    "- dump data to json file"
   ]
  },
  {
   "cell_type": "code",
   "execution_count": null,
   "id": "b232013d-3a36-4279-89e3-462666bbfcea",
   "metadata": {},
   "outputs": [],
   "source": []
  },
  {
   "cell_type": "markdown",
   "id": "9bda8f4e-84b1-4b61-bcc7-b09c6f229b46",
   "metadata": {
    "tags": []
   },
   "source": [
    "## Upload data to DataPlatform"
   ]
  },
  {
   "cell_type": "code",
   "execution_count": 75,
   "id": "78743c9a-58bc-4637-802f-4c809a133430",
   "metadata": {},
   "outputs": [],
   "source": [
    "from dsmlibrary.datanode import DataNode"
   ]
  },
  {
   "cell_type": "code",
   "execution_count": 76,
   "id": "87bc0455-ee3d-4d92-8065-c581f7749063",
   "metadata": {},
   "outputs": [],
   "source": [
    "dir_raw_id = 288"
   ]
  },
  {
   "cell_type": "code",
   "execution_count": 77,
   "id": "da831174-9c0c-4252-8b2f-ad0eff5e483e",
   "metadata": {},
   "outputs": [
    {
     "name": "stdout",
     "output_type": "stream",
     "text": [
      "Init DataNode sucessful!\n"
     ]
    }
   ],
   "source": [
    "datanode = DataNode()"
   ]
  },
  {
   "cell_type": "code",
   "execution_count": 78,
   "id": "8e70572a-332c-45b1-ab97-a3b621eaf995",
   "metadata": {},
   "outputs": [
    {
     "name": "stdin",
     "output_type": "stream",
     "text": [
      "File news.json alrady exists, do you want to replace y/n :  y\n"
     ]
    },
    {
     "data": {
      "application/vnd.jupyter.widget-view+json": {
       "model_id": "0df4d581e4c9426da781ff6fb5b06314",
       "version_major": 2,
       "version_minor": 0
      },
      "text/plain": [
       "  0%|          | 0.00/102k [00:00<?, ?B/s]"
      ]
     },
     "metadata": {},
     "output_type": "display_data"
    },
    {
     "data": {
      "text/plain": [
       "{'id': 1352,\n",
       " 'msg': 'file news.json create sucessful',\n",
       " 'path': 'data_engineer/dsi-314/raw/news.json',\n",
       " 'uploaded': True}"
      ]
     },
     "execution_count": 78,
     "metadata": {},
     "output_type": "execute_result"
    }
   ],
   "source": [
    "datanode.upload_file(directory_id=dir_raw_id, file_path='news.json')"
   ]
  },
  {
   "cell_type": "code",
   "execution_count": null,
   "id": "8aea64f8-9f15-477d-8658-2c8a8c351599",
   "metadata": {},
   "outputs": [],
   "source": []
  }
 ],
 "metadata": {
  "kernelspec": {
   "display_name": "Python 3 (ipykernel)",
   "language": "python",
   "name": "python3"
  },
  "language_info": {
   "codemirror_mode": {
    "name": "ipython",
    "version": 3
   },
   "file_extension": ".py",
   "mimetype": "text/x-python",
   "name": "python",
   "nbconvert_exporter": "python",
   "pygments_lexer": "ipython3",
   "version": "3.10.4"
  }
 },
 "nbformat": 4,
 "nbformat_minor": 5
}
